{
 "cells": [
  {
   "cell_type": "code",
   "execution_count": 1,
   "metadata": {},
   "outputs": [],
   "source": [
    "%matplotlib inline\n",
    "\n",
    "import numpy as np\n",
    "import matplotlib.pyplot as plt\n",
    "import pandas as pd"
   ]
  },
  {
   "cell_type": "markdown",
   "metadata": {},
   "source": [
    "## 數據：日累積雨量(每月更新)"
   ]
  },
  {
   "cell_type": "code",
   "execution_count": 2,
   "metadata": {},
   "outputs": [],
   "source": [
    "df = pd.read_csv('https://quality.data.gov.tw/dq_download_csv.php?nid=34831&md5_url=2e910590d2dae6689b0aa4aa6350c85c')"
   ]
  },
  {
   "cell_type": "code",
   "execution_count": 3,
   "metadata": {},
   "outputs": [
    {
     "data": {
      "text/html": [
       "<div>\n",
       "<style scoped>\n",
       "    .dataframe tbody tr th:only-of-type {\n",
       "        vertical-align: middle;\n",
       "    }\n",
       "\n",
       "    .dataframe tbody tr th {\n",
       "        vertical-align: top;\n",
       "    }\n",
       "\n",
       "    .dataframe thead th {\n",
       "        text-align: right;\n",
       "    }\n",
       "</style>\n",
       "<table border=\"1\" class=\"dataframe\">\n",
       "  <thead>\n",
       "    <tr style=\"text-align: right;\">\n",
       "      <th></th>\n",
       "      <th>SiteId</th>\n",
       "      <th>SiteName</th>\n",
       "      <th>Rainfall24hr</th>\n",
       "      <th>DataSourceAgency</th>\n",
       "      <th>MonitorDate</th>\n",
       "    </tr>\n",
       "  </thead>\n",
       "  <tbody>\n",
       "    <tr>\n",
       "      <th>0</th>\n",
       "      <td>84</td>\n",
       "      <td>富貴角</td>\n",
       "      <td>7.4</td>\n",
       "      <td>行政院環保署</td>\n",
       "      <td>2019-09-30</td>\n",
       "    </tr>\n",
       "    <tr>\n",
       "      <th>1</th>\n",
       "      <td>84</td>\n",
       "      <td>富貴角</td>\n",
       "      <td>15.2</td>\n",
       "      <td>行政院環保署</td>\n",
       "      <td>2019-09-29</td>\n",
       "    </tr>\n",
       "    <tr>\n",
       "      <th>2</th>\n",
       "      <td>84</td>\n",
       "      <td>富貴角</td>\n",
       "      <td>46.8</td>\n",
       "      <td>行政院環保署</td>\n",
       "      <td>2019-09-28</td>\n",
       "    </tr>\n",
       "    <tr>\n",
       "      <th>3</th>\n",
       "      <td>84</td>\n",
       "      <td>富貴角</td>\n",
       "      <td>56.2</td>\n",
       "      <td>行政院環保署</td>\n",
       "      <td>2019-09-27</td>\n",
       "    </tr>\n",
       "    <tr>\n",
       "      <th>4</th>\n",
       "      <td>84</td>\n",
       "      <td>富貴角</td>\n",
       "      <td>0</td>\n",
       "      <td>行政院環保署</td>\n",
       "      <td>2019-09-26</td>\n",
       "    </tr>\n",
       "  </tbody>\n",
       "</table>\n",
       "</div>"
      ],
      "text/plain": [
       "   SiteId SiteName Rainfall24hr DataSourceAgency MonitorDate\n",
       "0      84      富貴角          7.4           行政院環保署  2019-09-30\n",
       "1      84      富貴角         15.2           行政院環保署  2019-09-29\n",
       "2      84      富貴角         46.8           行政院環保署  2019-09-28\n",
       "3      84      富貴角         56.2           行政院環保署  2019-09-27\n",
       "4      84      富貴角            0           行政院環保署  2019-09-26"
      ]
     },
     "execution_count": 3,
     "metadata": {},
     "output_type": "execute_result"
    }
   ],
   "source": [
    "df.head()"
   ]
  },
  {
   "cell_type": "code",
   "execution_count": 32,
   "metadata": {},
   "outputs": [
    {
     "data": {
      "text/html": [
       "<div>\n",
       "<style scoped>\n",
       "    .dataframe tbody tr th:only-of-type {\n",
       "        vertical-align: middle;\n",
       "    }\n",
       "\n",
       "    .dataframe tbody tr th {\n",
       "        vertical-align: top;\n",
       "    }\n",
       "\n",
       "    .dataframe thead th {\n",
       "        text-align: right;\n",
       "    }\n",
       "</style>\n",
       "<table border=\"1\" class=\"dataframe\">\n",
       "  <thead>\n",
       "    <tr style=\"text-align: right;\">\n",
       "      <th></th>\n",
       "      <th>地點</th>\n",
       "      <th>日累積雨量</th>\n",
       "      <th>觀測日</th>\n",
       "    </tr>\n",
       "  </thead>\n",
       "  <tbody>\n",
       "    <tr>\n",
       "      <th>995</th>\n",
       "      <td>善化</td>\n",
       "      <td>0</td>\n",
       "      <td>2019-09-25</td>\n",
       "    </tr>\n",
       "    <tr>\n",
       "      <th>996</th>\n",
       "      <td>善化</td>\n",
       "      <td>0</td>\n",
       "      <td>2019-09-24</td>\n",
       "    </tr>\n",
       "    <tr>\n",
       "      <th>997</th>\n",
       "      <td>善化</td>\n",
       "      <td>0</td>\n",
       "      <td>2019-09-23</td>\n",
       "    </tr>\n",
       "    <tr>\n",
       "      <th>998</th>\n",
       "      <td>善化</td>\n",
       "      <td>0</td>\n",
       "      <td>2019-09-22</td>\n",
       "    </tr>\n",
       "    <tr>\n",
       "      <th>999</th>\n",
       "      <td>善化</td>\n",
       "      <td>0</td>\n",
       "      <td>2019-09-21</td>\n",
       "    </tr>\n",
       "  </tbody>\n",
       "</table>\n",
       "</div>"
      ],
      "text/plain": [
       "     地點 日累積雨量         觀測日\n",
       "995  善化     0  2019-09-25\n",
       "996  善化     0  2019-09-24\n",
       "997  善化     0  2019-09-23\n",
       "998  善化     0  2019-09-22\n",
       "999  善化     0  2019-09-21"
      ]
     },
     "execution_count": 32,
     "metadata": {},
     "output_type": "execute_result"
    }
   ],
   "source": [
    "df.tail()"
   ]
  },
  {
   "cell_type": "code",
   "execution_count": 33,
   "metadata": {},
   "outputs": [
    {
     "data": {
      "text/plain": [
       "'7.415.246.856.20000060.40000.67.23.60.80001625.68.826.84.60001.40000000000000000000103.4000.6003.825.4000000.214.827.4000035.80000.807.2035.81.4150016.20.2000000000000000000.20000000000xx000000000000000000000002.800012.80.2.600000000.806.800003.400.200.87.2.41.407.4000000100000000000004.213.41.237.20043.4.2000000000000001612.600014.25.2040.411.81.21238.4x1.876.826.8125.812.2.4000030.624.62.2.41.221.20000001.6.213.84619000.802100000000000.401.60005.8017.2.6.829.425020.875824.8.60.8000020.8211.810.2.839.40000000018.625.22.200064.42953.237.6.800002817.604.6.61.612.40000003.8.29.630.628.2000110.493.44812610901.60043401.4.42.82.2002.20009.23.21.822.432200060.8129.65072.2260.6005.60010.21.2011.200039.413.63.623.2131.400205.684.888.4103.660.40.200244.2197458.23476.48.206.20042013.860.442.800051.218.41.85.60015.25.850.400000000000000027.4004.6024.2002.2000.654.875.6000000000018.6016.4.49.40.20.626.2.21057.60001665.401.8000.662.40.6219.80446.81319.8121.425.239.20.817.800000000000072.2000.29.604.4.2157.8018.250.451.200.200000000000.26.21.200013.42.2.267.8036.838.64.41.6000000000001.200022.62.600014002170137.45.601.600000000000000015.210.400011.23.60421101229.24.200000000000000637.400xx0.238.242.8.4116.43.2.2.8.200000000000000043.800025020.62915.411127.4603000000000000000011.200011.6.83.2628.2.458.83.40200000000000000013.29.20008.60012.615.2.273.41.62.6.800000000000000042.4400031.4.2.22.417.8067.631.4x.200000000000000014.400011.43.81.21.223.41672.81.40000000000000001.8032.200018.80.8028.45.839.29.6.26.800000000000000.2022.400032.65.23023.6057.4601.2001000000000.23828.2028.624.800013.80.4087.2.819.641.4x.81.40000000000000.41.62.200074.80001.2074.45.200.60000000000003.67.2.8.20005000027.88.872.29.6020.21000000000'"
      ]
     },
     "execution_count": 33,
     "metadata": {},
     "output_type": "execute_result"
    }
   ],
   "source": [
    "df['日累積雨量'].sum()"
   ]
  },
  {
   "cell_type": "markdown",
   "metadata": {},
   "source": [
    "#### 美化表格"
   ]
  },
  {
   "cell_type": "code",
   "execution_count": 4,
   "metadata": {},
   "outputs": [
    {
     "data": {
      "text/plain": [
       "Index(['SiteId', 'SiteName', 'Rainfall24hr', 'DataSourceAgency',\n",
       "       'MonitorDate'],\n",
       "      dtype='object')"
      ]
     },
     "execution_count": 4,
     "metadata": {},
     "output_type": "execute_result"
    }
   ],
   "source": [
    "df.columns"
   ]
  },
  {
   "cell_type": "code",
   "execution_count": 5,
   "metadata": {},
   "outputs": [
    {
     "data": {
      "text/html": [
       "<div>\n",
       "<style scoped>\n",
       "    .dataframe tbody tr th:only-of-type {\n",
       "        vertical-align: middle;\n",
       "    }\n",
       "\n",
       "    .dataframe tbody tr th {\n",
       "        vertical-align: top;\n",
       "    }\n",
       "\n",
       "    .dataframe thead th {\n",
       "        text-align: right;\n",
       "    }\n",
       "</style>\n",
       "<table border=\"1\" class=\"dataframe\">\n",
       "  <thead>\n",
       "    <tr style=\"text-align: right;\">\n",
       "      <th></th>\n",
       "      <th>地點</th>\n",
       "      <th>日累積雨量</th>\n",
       "      <th>觀測日</th>\n",
       "    </tr>\n",
       "  </thead>\n",
       "  <tbody>\n",
       "    <tr>\n",
       "      <th>0</th>\n",
       "      <td>富貴角</td>\n",
       "      <td>7.4</td>\n",
       "      <td>2019-09-30</td>\n",
       "    </tr>\n",
       "    <tr>\n",
       "      <th>1</th>\n",
       "      <td>富貴角</td>\n",
       "      <td>15.2</td>\n",
       "      <td>2019-09-29</td>\n",
       "    </tr>\n",
       "    <tr>\n",
       "      <th>2</th>\n",
       "      <td>富貴角</td>\n",
       "      <td>46.8</td>\n",
       "      <td>2019-09-28</td>\n",
       "    </tr>\n",
       "    <tr>\n",
       "      <th>3</th>\n",
       "      <td>富貴角</td>\n",
       "      <td>56.2</td>\n",
       "      <td>2019-09-27</td>\n",
       "    </tr>\n",
       "    <tr>\n",
       "      <th>4</th>\n",
       "      <td>富貴角</td>\n",
       "      <td>0</td>\n",
       "      <td>2019-09-26</td>\n",
       "    </tr>\n",
       "  </tbody>\n",
       "</table>\n",
       "</div>"
      ],
      "text/plain": [
       "    地點 日累積雨量         觀測日\n",
       "0  富貴角   7.4  2019-09-30\n",
       "1  富貴角  15.2  2019-09-29\n",
       "2  富貴角  46.8  2019-09-28\n",
       "3  富貴角  56.2  2019-09-27\n",
       "4  富貴角     0  2019-09-26"
      ]
     },
     "execution_count": 5,
     "metadata": {},
     "output_type": "execute_result"
    }
   ],
   "source": [
    "df.drop(\"SiteId\", axis=1,inplace=True)\n",
    "df.drop(\"DataSourceAgency\", axis=1,inplace=True)\n",
    "\n",
    "df.columns = [\"地點\",'日累積雨量','觀測日']\n",
    "df.head()"
   ]
  },
  {
   "cell_type": "markdown",
   "metadata": {},
   "source": [
    "## 富貴角的日累積雨量"
   ]
  },
  {
   "cell_type": "code",
   "execution_count": 6,
   "metadata": {},
   "outputs": [],
   "source": [
    "df_sorted = df[(df.地點 == \"富貴角\")]"
   ]
  },
  {
   "cell_type": "code",
   "execution_count": 7,
   "metadata": {},
   "outputs": [
    {
     "data": {
      "text/html": [
       "<div>\n",
       "<style scoped>\n",
       "    .dataframe tbody tr th:only-of-type {\n",
       "        vertical-align: middle;\n",
       "    }\n",
       "\n",
       "    .dataframe tbody tr th {\n",
       "        vertical-align: top;\n",
       "    }\n",
       "\n",
       "    .dataframe thead th {\n",
       "        text-align: right;\n",
       "    }\n",
       "</style>\n",
       "<table border=\"1\" class=\"dataframe\">\n",
       "  <thead>\n",
       "    <tr style=\"text-align: right;\">\n",
       "      <th></th>\n",
       "      <th>地點</th>\n",
       "      <th>日累積雨量</th>\n",
       "      <th>觀測日</th>\n",
       "    </tr>\n",
       "  </thead>\n",
       "  <tbody>\n",
       "    <tr>\n",
       "      <th>0</th>\n",
       "      <td>富貴角</td>\n",
       "      <td>7.4</td>\n",
       "      <td>2019-09-30</td>\n",
       "    </tr>\n",
       "    <tr>\n",
       "      <th>1</th>\n",
       "      <td>富貴角</td>\n",
       "      <td>15.2</td>\n",
       "      <td>2019-09-29</td>\n",
       "    </tr>\n",
       "    <tr>\n",
       "      <th>2</th>\n",
       "      <td>富貴角</td>\n",
       "      <td>46.8</td>\n",
       "      <td>2019-09-28</td>\n",
       "    </tr>\n",
       "    <tr>\n",
       "      <th>3</th>\n",
       "      <td>富貴角</td>\n",
       "      <td>56.2</td>\n",
       "      <td>2019-09-27</td>\n",
       "    </tr>\n",
       "    <tr>\n",
       "      <th>4</th>\n",
       "      <td>富貴角</td>\n",
       "      <td>0</td>\n",
       "      <td>2019-09-26</td>\n",
       "    </tr>\n",
       "    <tr>\n",
       "      <th>5</th>\n",
       "      <td>富貴角</td>\n",
       "      <td>0</td>\n",
       "      <td>2019-09-25</td>\n",
       "    </tr>\n",
       "    <tr>\n",
       "      <th>6</th>\n",
       "      <td>富貴角</td>\n",
       "      <td>0</td>\n",
       "      <td>2019-09-24</td>\n",
       "    </tr>\n",
       "    <tr>\n",
       "      <th>7</th>\n",
       "      <td>富貴角</td>\n",
       "      <td>0</td>\n",
       "      <td>2019-09-23</td>\n",
       "    </tr>\n",
       "    <tr>\n",
       "      <th>8</th>\n",
       "      <td>富貴角</td>\n",
       "      <td>0</td>\n",
       "      <td>2019-09-22</td>\n",
       "    </tr>\n",
       "    <tr>\n",
       "      <th>9</th>\n",
       "      <td>富貴角</td>\n",
       "      <td>60.4</td>\n",
       "      <td>2019-09-21</td>\n",
       "    </tr>\n",
       "    <tr>\n",
       "      <th>10</th>\n",
       "      <td>富貴角</td>\n",
       "      <td>0</td>\n",
       "      <td>2019-09-20</td>\n",
       "    </tr>\n",
       "    <tr>\n",
       "      <th>11</th>\n",
       "      <td>富貴角</td>\n",
       "      <td>0</td>\n",
       "      <td>2019-09-19</td>\n",
       "    </tr>\n",
       "    <tr>\n",
       "      <th>12</th>\n",
       "      <td>富貴角</td>\n",
       "      <td>0</td>\n",
       "      <td>2019-09-18</td>\n",
       "    </tr>\n",
       "    <tr>\n",
       "      <th>13</th>\n",
       "      <td>富貴角</td>\n",
       "      <td>0</td>\n",
       "      <td>2019-09-17</td>\n",
       "    </tr>\n",
       "    <tr>\n",
       "      <th>14</th>\n",
       "      <td>富貴角</td>\n",
       "      <td>.6</td>\n",
       "      <td>2019-09-16</td>\n",
       "    </tr>\n",
       "    <tr>\n",
       "      <th>15</th>\n",
       "      <td>富貴角</td>\n",
       "      <td>7.2</td>\n",
       "      <td>2019-09-15</td>\n",
       "    </tr>\n",
       "    <tr>\n",
       "      <th>16</th>\n",
       "      <td>富貴角</td>\n",
       "      <td>3.6</td>\n",
       "      <td>2019-09-14</td>\n",
       "    </tr>\n",
       "    <tr>\n",
       "      <th>17</th>\n",
       "      <td>富貴角</td>\n",
       "      <td>0</td>\n",
       "      <td>2019-09-13</td>\n",
       "    </tr>\n",
       "    <tr>\n",
       "      <th>18</th>\n",
       "      <td>富貴角</td>\n",
       "      <td>.8</td>\n",
       "      <td>2019-09-12</td>\n",
       "    </tr>\n",
       "    <tr>\n",
       "      <th>19</th>\n",
       "      <td>富貴角</td>\n",
       "      <td>0</td>\n",
       "      <td>2019-09-11</td>\n",
       "    </tr>\n",
       "    <tr>\n",
       "      <th>20</th>\n",
       "      <td>富貴角</td>\n",
       "      <td>0</td>\n",
       "      <td>2019-09-10</td>\n",
       "    </tr>\n",
       "    <tr>\n",
       "      <th>21</th>\n",
       "      <td>富貴角</td>\n",
       "      <td>0</td>\n",
       "      <td>2019-09-09</td>\n",
       "    </tr>\n",
       "    <tr>\n",
       "      <th>22</th>\n",
       "      <td>富貴角</td>\n",
       "      <td>16</td>\n",
       "      <td>2019-09-08</td>\n",
       "    </tr>\n",
       "    <tr>\n",
       "      <th>23</th>\n",
       "      <td>富貴角</td>\n",
       "      <td>25.6</td>\n",
       "      <td>2019-09-07</td>\n",
       "    </tr>\n",
       "    <tr>\n",
       "      <th>24</th>\n",
       "      <td>富貴角</td>\n",
       "      <td>8.8</td>\n",
       "      <td>2019-09-06</td>\n",
       "    </tr>\n",
       "    <tr>\n",
       "      <th>25</th>\n",
       "      <td>富貴角</td>\n",
       "      <td>26.8</td>\n",
       "      <td>2019-09-05</td>\n",
       "    </tr>\n",
       "    <tr>\n",
       "      <th>26</th>\n",
       "      <td>富貴角</td>\n",
       "      <td>4.6</td>\n",
       "      <td>2019-09-04</td>\n",
       "    </tr>\n",
       "    <tr>\n",
       "      <th>27</th>\n",
       "      <td>富貴角</td>\n",
       "      <td>0</td>\n",
       "      <td>2019-09-03</td>\n",
       "    </tr>\n",
       "    <tr>\n",
       "      <th>28</th>\n",
       "      <td>富貴角</td>\n",
       "      <td>0</td>\n",
       "      <td>2019-09-02</td>\n",
       "    </tr>\n",
       "    <tr>\n",
       "      <th>29</th>\n",
       "      <td>富貴角</td>\n",
       "      <td>0</td>\n",
       "      <td>2019-09-01</td>\n",
       "    </tr>\n",
       "  </tbody>\n",
       "</table>\n",
       "</div>"
      ],
      "text/plain": [
       "     地點 日累積雨量         觀測日\n",
       "0   富貴角   7.4  2019-09-30\n",
       "1   富貴角  15.2  2019-09-29\n",
       "2   富貴角  46.8  2019-09-28\n",
       "3   富貴角  56.2  2019-09-27\n",
       "4   富貴角     0  2019-09-26\n",
       "5   富貴角     0  2019-09-25\n",
       "6   富貴角     0  2019-09-24\n",
       "7   富貴角     0  2019-09-23\n",
       "8   富貴角     0  2019-09-22\n",
       "9   富貴角  60.4  2019-09-21\n",
       "10  富貴角     0  2019-09-20\n",
       "11  富貴角     0  2019-09-19\n",
       "12  富貴角     0  2019-09-18\n",
       "13  富貴角     0  2019-09-17\n",
       "14  富貴角    .6  2019-09-16\n",
       "15  富貴角   7.2  2019-09-15\n",
       "16  富貴角   3.6  2019-09-14\n",
       "17  富貴角     0  2019-09-13\n",
       "18  富貴角    .8  2019-09-12\n",
       "19  富貴角     0  2019-09-11\n",
       "20  富貴角     0  2019-09-10\n",
       "21  富貴角     0  2019-09-09\n",
       "22  富貴角    16  2019-09-08\n",
       "23  富貴角  25.6  2019-09-07\n",
       "24  富貴角   8.8  2019-09-06\n",
       "25  富貴角  26.8  2019-09-05\n",
       "26  富貴角   4.6  2019-09-04\n",
       "27  富貴角     0  2019-09-03\n",
       "28  富貴角     0  2019-09-02\n",
       "29  富貴角     0  2019-09-01"
      ]
     },
     "execution_count": 7,
     "metadata": {},
     "output_type": "execute_result"
    }
   ],
   "source": [
    "df_sorted"
   ]
  },
  {
   "cell_type": "markdown",
   "metadata": {},
   "source": [
    "#### ~失敗：日累積雨量為object 無法相加~"
   ]
  },
  {
   "cell_type": "code",
   "execution_count": 34,
   "metadata": {},
   "outputs": [
    {
     "data": {
      "text/plain": [
       "'7.415.246.856.20000060.40000.67.23.60.80001625.68.826.84.6000'"
      ]
     },
     "execution_count": 34,
     "metadata": {},
     "output_type": "execute_result"
    }
   ],
   "source": [
    "df_sorted['日累積雨量'].sum()"
   ]
  },
  {
   "cell_type": "markdown",
   "metadata": {},
   "source": [
    "#### 成功版"
   ]
  },
  {
   "cell_type": "code",
   "execution_count": 20,
   "metadata": {
    "scrolled": true
   },
   "outputs": [],
   "source": [
    "sum = 0\n",
    "for i in df_sorted['日累積雨量']:\n",
    "    sum = sum + float(i)"
   ]
  },
  {
   "cell_type": "code",
   "execution_count": 21,
   "metadata": {},
   "outputs": [
    {
     "data": {
      "text/plain": [
       "280.0"
      ]
     },
     "execution_count": 21,
     "metadata": {},
     "output_type": "execute_result"
    }
   ],
   "source": [
    "sum"
   ]
  },
  {
   "cell_type": "markdown",
   "metadata": {},
   "source": [
    "#### 可以更好：用折線圖呈現每月降雨量"
   ]
  },
  {
   "cell_type": "code",
   "execution_count": null,
   "metadata": {},
   "outputs": [],
   "source": []
  }
 ],
 "metadata": {
  "kernelspec": {
   "display_name": "Python 3",
   "language": "python",
   "name": "python3"
  },
  "language_info": {
   "codemirror_mode": {
    "name": "ipython",
    "version": 3
   },
   "file_extension": ".py",
   "mimetype": "text/x-python",
   "name": "python",
   "nbconvert_exporter": "python",
   "pygments_lexer": "ipython3",
   "version": "3.7.3"
  }
 },
 "nbformat": 4,
 "nbformat_minor": 2
}
