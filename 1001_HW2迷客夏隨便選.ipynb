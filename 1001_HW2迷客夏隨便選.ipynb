{
 "cells": [
  {
   "cell_type": "code",
   "execution_count": 12,
   "metadata": {},
   "outputs": [],
   "source": [
    "%matplotlib inline\n",
    "\n",
    "import numpy as np\n",
    "import matplotlib.pyplot as plt\n",
    "import pandas as pd\n",
    "from numpy.random import randint\n",
    "from numpy.random import choice\n",
    "\n",
    "import ipywidgets as widgets\n",
    "from ipywidgets import interact\n",
    "from ipywidgets import interact_manual\n",
    "from IPython.display import display"
   ]
  },
  {
   "cell_type": "code",
   "execution_count": 13,
   "metadata": {},
   "outputs": [],
   "source": [
    "special='''\n",
    "原鄉冬瓜茶\n",
    "冬瓜青茶\n",
    "蜂農花蜜茶\n",
    "冰糖洛神梅\n",
    "養樂多綠\n",
    "甘蔗青茶\n",
    "青檸香茶\n",
    "冬瓜檸檬\n",
    "金桔檸檬\n",
    "冰萃檸檬\n",
    "冰萃柳丁\n",
    "柳丁綠茶\n",
    "桂圓紅棗茶\n",
    "'''"
   ]
  },
  {
   "cell_type": "code",
   "execution_count": 14,
   "metadata": {},
   "outputs": [],
   "source": [
    "milk='''\n",
    "珍珠紅茶拿鐵\n",
    "伯爵紅茶拿鐵\n",
    "大正紅茶拿鐵\n",
    "布丁紅茶拿鐵\n",
    "仙草凍茶拿鐵\n",
    "紅豆紅茶拿鐵\n",
    "麥茶拿鐵\n",
    "烏龍拿鐵\n",
    "綠茶拿鐵\n",
    "青茶拿鐵\n",
    "'''"
   ]
  },
  {
   "cell_type": "code",
   "execution_count": 15,
   "metadata": {},
   "outputs": [],
   "source": [
    "tea='''\n",
    "大正紅茶\n",
    "初露青茶\n",
    "青採翠玉\n",
    "高峰烏龍綠\n",
    "決明大麥\n",
    "茉香綠茶\n",
    "英倫伯爵紅茶\n",
    "'''"
   ]
  },
  {
   "cell_type": "code",
   "execution_count": 16,
   "metadata": {},
   "outputs": [],
   "source": [
    "phrase1 = special.split(\"\\n\")\n",
    "phrase2 = milk.split(\"\\n\")\n",
    "phrase3 = tea.split(\"\\n\")"
   ]
  },
  {
   "cell_type": "code",
   "execution_count": 17,
   "metadata": {},
   "outputs": [],
   "source": [
    "from numpy.random import choice"
   ]
  },
  {
   "cell_type": "code",
   "execution_count": 21,
   "metadata": {},
   "outputs": [
    {
     "name": "stdout",
     "output_type": "stream",
     "text": [
      "歡迎光臨迷客夏，請問今天要喝什麼呢？\n"
     ]
    },
    {
     "data": {
      "application/vnd.jupyter.widget-view+json": {
       "model_id": "64b53613a9e3427bb61a3d28d283f102",
       "version_major": 2,
       "version_minor": 0
      },
      "text/plain": [
       "Button(description='今日推薦', style=ButtonStyle())"
      ]
     },
     "metadata": {},
     "output_type": "display_data"
    },
    {
     "name": "stdout",
     "output_type": "stream",
     "text": [
      "那要什麼類呢？\n"
     ]
    },
    {
     "data": {
      "application/vnd.jupyter.widget-view+json": {
       "model_id": "451e9935b2f04296b970472ecb2cb1e3",
       "version_major": 2,
       "version_minor": 0
      },
      "text/plain": [
       "interactive(children=(Dropdown(description='類別', options=('特調茶飲', '茶類', '牛奶類'), value='特調茶飲'), Button(descript…"
      ]
     },
     "metadata": {},
     "output_type": "display_data"
    }
   ],
   "source": [
    "l = randint(1,2) \n",
    "ll = randint(1,2)\n",
    "lll = randint(1,2) \n",
    "\n",
    "random_special = choice(phrase1,l)\n",
    "today_special=' '.join(random_special) \n",
    "random_milk = choice(phrase2,ll)\n",
    "today_milk=' '.join(random_milk) \n",
    "random_tea = choice(phrase3,lll)\n",
    "today_tea=' '.join(random_tea) \n",
    "\n",
    "from ipywidgets import interact\n",
    "from ipywidgets import interact_manual\n",
    "\n",
    "print(\"歡迎光臨迷客夏，請問今天要喝什麼呢？\")\n",
    "\n",
    "btn_reply= widgets.Button(description='今日推薦')\n",
    "\n",
    "def show(choose_type):\n",
    "    if(choose_type == '特調茶飲'):\n",
    "        print(\"特調茶飲的話，我推薦您\" + today_special)\n",
    "    elif(choose_type == '茶類'):\n",
    "        print(\"茶類的話，我推薦您\" + today_tea)\n",
    "    else:\n",
    "        print(\"牛奶類的話，我推薦您\" + today_milk)\n",
    "    \n",
    "def btn_eventhandler_reply(obj):\n",
    "    print(\"那要什麼類呢？\")\n",
    "    interact_manual(show,\n",
    "         choose_type = widgets.Dropdown(\n",
    "             options=['特調茶飲','茶類' , '牛奶類'],\n",
    "             description='類別',\n",
    "             disabled=False,\n",
    "         ),\n",
    "        );\n",
    "\n",
    "btn_reply.on_click(btn_eventhandler_reply)\n",
    "\n",
    "display(btn_reply)\n"
   ]
  },
  {
   "cell_type": "code",
   "execution_count": null,
   "metadata": {},
   "outputs": [],
   "source": []
  },
  {
   "cell_type": "code",
   "execution_count": null,
   "metadata": {},
   "outputs": [],
   "source": []
  },
  {
   "cell_type": "code",
   "execution_count": null,
   "metadata": {},
   "outputs": [],
   "source": []
  }
 ],
 "metadata": {
  "kernelspec": {
   "display_name": "Python 3",
   "language": "python",
   "name": "python3"
  },
  "language_info": {
   "codemirror_mode": {
    "name": "ipython",
    "version": 3
   },
   "file_extension": ".py",
   "mimetype": "text/x-python",
   "name": "python",
   "nbconvert_exporter": "python",
   "pygments_lexer": "ipython3",
   "version": "3.7.3"
  }
 },
 "nbformat": 4,
 "nbformat_minor": 2
}
