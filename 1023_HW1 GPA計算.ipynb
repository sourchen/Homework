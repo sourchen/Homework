{
 "cells": [
  {
   "cell_type": "code",
   "execution_count": 33,
   "metadata": {},
   "outputs": [],
   "source": [
    "%matplotlib inline\n",
    "\n",
    "import numpy as np\n",
    "import matplotlib.pyplot as plt\n",
    "import pandas as pd"
   ]
  },
  {
   "cell_type": "code",
   "execution_count": 36,
   "metadata": {},
   "outputs": [
    {
     "name": "stdout",
     "output_type": "stream",
     "text": [
      "請輸入積分1\n",
      "請輸入積分2\n",
      "請輸入積分3\n",
      "請輸入積分ok\n",
      "請輸入學分1\n",
      "請輸入學分2\n",
      "請輸入學分3\n",
      "請輸入學分ok\n",
      "您的GPA是：4.666666666666667\n"
     ]
    }
   ],
   "source": [
    "x = []\n",
    "not_stop = True\n",
    "\n",
    "while not_stop:\n",
    "    gpa = input('請輸入積分')\n",
    "    if gpa != \"ok\":\n",
    "        x = x + [gpa]\n",
    "    else:\n",
    "        not_stop = False\n",
    "        x = [int(gpa) for gpa in x] #input轉成int\n",
    "\n",
    "mygpa = np.array(x)\n",
    "        \n",
    "y = []\n",
    "not_stop1 = True\n",
    "\n",
    "while not_stop1:\n",
    "    point = input('請輸入學分')\n",
    "    if point != \"ok\":\n",
    "        y = y + [point]\n",
    "    else:\n",
    "        not_stop1 = False\n",
    "        y = [int(point) for point in y] #input轉成int\n",
    "        \n",
    "mypoint = np.array(y)\n",
    "my_gpa = sum(mygpa * mypoint) / len(mypoint)\n",
    "print(\"您的GPA是：\" + str(my_gpa))"
   ]
  },
  {
   "cell_type": "code",
   "execution_count": null,
   "metadata": {},
   "outputs": [],
   "source": []
  }
 ],
 "metadata": {
  "kernelspec": {
   "display_name": "Python 3",
   "language": "python",
   "name": "python3"
  },
  "language_info": {
   "codemirror_mode": {
    "name": "ipython",
    "version": 3
   },
   "file_extension": ".py",
   "mimetype": "text/x-python",
   "name": "python",
   "nbconvert_exporter": "python",
   "pygments_lexer": "ipython3",
   "version": "3.7.3"
  }
 },
 "nbformat": 4,
 "nbformat_minor": 2
}
