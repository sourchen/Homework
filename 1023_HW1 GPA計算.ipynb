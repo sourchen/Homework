{
 "cells": [
  {
   "cell_type": "code",
   "execution_count": 22,
   "metadata": {},
   "outputs": [],
   "source": [
    "%matplotlib inline\n",
    "\n",
    "import numpy as np\n",
    "import matplotlib.pyplot as plt\n",
    "import pandas as pd"
   ]
  },
  {
   "cell_type": "code",
   "execution_count": 31,
   "metadata": {},
   "outputs": [
    {
     "name": "stdout",
     "output_type": "stream",
     "text": [
      "請輸入積分1\n",
      "請輸入積分2\n",
      "請輸入積分3\n",
      "請輸入積分ok\n",
      "請輸入學分1\n",
      "請輸入學分2\n",
      "請輸入學分3\n",
      "請輸入學分ok\n"
     ]
    },
    {
     "ename": "TypeError",
     "evalue": "can only concatenate str (not \"numpy.float64\") to str",
     "output_type": "error",
     "traceback": [
      "\u001b[0;31m---------------------------------------------------------------------------\u001b[0m",
      "\u001b[0;31mTypeError\u001b[0m                                 Traceback (most recent call last)",
      "\u001b[0;32m<ipython-input-31-1ff6dbb6f9b4>\u001b[0m in \u001b[0;36m<module>\u001b[0;34m\u001b[0m\n\u001b[1;32m     25\u001b[0m \u001b[0mmypoint\u001b[0m \u001b[0;34m=\u001b[0m \u001b[0mnp\u001b[0m\u001b[0;34m.\u001b[0m\u001b[0marray\u001b[0m\u001b[0;34m(\u001b[0m\u001b[0my\u001b[0m\u001b[0;34m)\u001b[0m\u001b[0;34m\u001b[0m\u001b[0;34m\u001b[0m\u001b[0m\n\u001b[1;32m     26\u001b[0m \u001b[0mmy_gpa\u001b[0m \u001b[0;34m=\u001b[0m \u001b[0msum\u001b[0m\u001b[0;34m(\u001b[0m\u001b[0mmygpa\u001b[0m \u001b[0;34m*\u001b[0m \u001b[0mmypoint\u001b[0m\u001b[0;34m)\u001b[0m \u001b[0;34m/\u001b[0m \u001b[0mlen\u001b[0m\u001b[0;34m(\u001b[0m\u001b[0mmypoint\u001b[0m\u001b[0;34m)\u001b[0m\u001b[0;34m\u001b[0m\u001b[0;34m\u001b[0m\u001b[0m\n\u001b[0;32m---> 27\u001b[0;31m \u001b[0mprint\u001b[0m\u001b[0;34m(\u001b[0m\u001b[0;34m\"您的GPA是：\"\u001b[0m \u001b[0;34m+\u001b[0m \u001b[0mmy_gpa\u001b[0m\u001b[0;34m)\u001b[0m\u001b[0;34m\u001b[0m\u001b[0;34m\u001b[0m\u001b[0m\n\u001b[0m",
      "\u001b[0;31mTypeError\u001b[0m: can only concatenate str (not \"numpy.float64\") to str"
     ]
    }
   ],
   "source": [
    "x = []\n",
    "not_stop = True\n",
    "\n",
    "while not_stop:\n",
    "    gpa = input('請輸入積分')\n",
    "    if gpa != \"ok\":\n",
    "        x = x + [gpa]\n",
    "    else:\n",
    "        not_stop = False\n",
    "        x = [int(gpa) for gpa in x] #input轉成int\n",
    "\n",
    "mygpa = np.array(x)\n",
    "        \n",
    "y = []\n",
    "not_stop1 = True\n",
    "\n",
    "while not_stop1:\n",
    "    point = input('請輸入學分')\n",
    "    if point != \"ok\":\n",
    "        y = y + [point]\n",
    "    else:\n",
    "        not_stop1 = False\n",
    "        y = [int(point) for point in y] #input轉成int\n",
    "        \n",
    "mypoint = np.array(y)\n",
    "my_gpa = sum(mygpa * mypoint) / len(mypoint)\n",
    "print(\"您的GPA是：\" + my_gpa)"
   ]
  },
  {
   "cell_type": "code",
   "execution_count": null,
   "metadata": {},
   "outputs": [],
   "source": []
  }
 ],
 "metadata": {
  "kernelspec": {
   "display_name": "Python 3",
   "language": "python",
   "name": "python3"
  },
  "language_info": {
   "codemirror_mode": {
    "name": "ipython",
    "version": 3
   },
   "file_extension": ".py",
   "mimetype": "text/x-python",
   "name": "python",
   "nbconvert_exporter": "python",
   "pygments_lexer": "ipython3",
   "version": "3.7.3"
  }
 },
 "nbformat": 4,
 "nbformat_minor": 2
}
