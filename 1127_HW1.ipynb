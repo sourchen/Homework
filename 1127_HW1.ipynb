{
 "cells": [
  {
   "cell_type": "code",
   "execution_count": 2,
   "metadata": {},
   "outputs": [],
   "source": [
    "%matplotlib inline\n",
    "\n",
    "import numpy as np\n",
    "import matplotlib.pyplot as plt\n",
    "import pandas as pd\n",
    "import json"
   ]
  },
  {
   "cell_type": "code",
   "execution_count": 3,
   "metadata": {},
   "outputs": [],
   "source": [
    "df = pd.read_csv(\"https://www.twtainan.net/data/attractions_zh-tw.csv\")"
   ]
  },
  {
   "cell_type": "code",
   "execution_count": 4,
   "metadata": {},
   "outputs": [
    {
     "data": {
      "text/html": [
       "<div>\n",
       "<style scoped>\n",
       "    .dataframe tbody tr th:only-of-type {\n",
       "        vertical-align: middle;\n",
       "    }\n",
       "\n",
       "    .dataframe tbody tr th {\n",
       "        vertical-align: top;\n",
       "    }\n",
       "\n",
       "    .dataframe thead th {\n",
       "        text-align: right;\n",
       "    }\n",
       "</style>\n",
       "<table border=\"1\" class=\"dataframe\">\n",
       "  <thead>\n",
       "    <tr style=\"text-align: right;\">\n",
       "      <th></th>\n",
       "      <th>id</th>\n",
       "      <th>lang</th>\n",
       "      <th>name</th>\n",
       "      <th>summary</th>\n",
       "      <th>introduction</th>\n",
       "      <th>open_time</th>\n",
       "      <th>district</th>\n",
       "      <th>address</th>\n",
       "      <th>tel</th>\n",
       "      <th>fax</th>\n",
       "      <th>lat</th>\n",
       "      <th>long</th>\n",
       "      <th>services</th>\n",
       "      <th>category</th>\n",
       "      <th>update_time</th>\n",
       "    </tr>\n",
       "  </thead>\n",
       "  <tbody>\n",
       "    <tr>\n",
       "      <th>0</th>\n",
       "      <td>466</td>\n",
       "      <td>zh-tw</td>\n",
       "      <td>南鯤鯓代天府</td>\n",
       "      <td>NaN</td>\n",
       "      <td>在許多台南人的記憶當中，對南鯤鯓代天府的印象就是超熱鬧的廟會，每天參拜進香的信徒及慕名而來的...</td>\n",
       "      <td>主殿-06:00~21:00、大鯤園-08:00~17:00、凌霄寶殿-07:30~17:0...</td>\n",
       "      <td>北門區</td>\n",
       "      <td>727 臺南市北門區鯤江976號</td>\n",
       "      <td>+886-6-7863711</td>\n",
       "      <td>NaN</td>\n",
       "      <td>23.28647</td>\n",
       "      <td>120.14159</td>\n",
       "      <td>NaN</td>\n",
       "      <td>歷史古蹟、宗教廟宇、在地藝文</td>\n",
       "      <td>2019-09-18 16:08:44</td>\n",
       "    </tr>\n",
       "    <tr>\n",
       "      <th>1</th>\n",
       "      <td>467</td>\n",
       "      <td>zh-tw</td>\n",
       "      <td>東隆宮文化中心</td>\n",
       "      <td>NaN</td>\n",
       "      <td>來到北門區三寮灣，不管從哪個方向，遠遠的都可以看到七樓高的「東隆宮文化中心」，在小漁村內顯得...</td>\n",
       "      <td>08:30~11:30 12:30~16:30，全年開放</td>\n",
       "      <td>北門區</td>\n",
       "      <td>727 臺南市北門區三光里三寮灣127-3號</td>\n",
       "      <td>+886-6-7850355</td>\n",
       "      <td>+886-6-7850356</td>\n",
       "      <td>23.23833</td>\n",
       "      <td>120.11180</td>\n",
       "      <td>NaN</td>\n",
       "      <td>地方展館、在地藝文</td>\n",
       "      <td>2019-09-19 10:17:36</td>\n",
       "    </tr>\n",
       "    <tr>\n",
       "      <th>2</th>\n",
       "      <td>468</td>\n",
       "      <td>zh-tw</td>\n",
       "      <td>馬沙溝濱海遊憩區</td>\n",
       "      <td></td>\n",
       "      <td>約莫在1980年代可說是馬沙溝最輝煌的時期，夏天的海邊總是人山人海，攤販、陽傘、水上活動琳瑯...</td>\n",
       "      <td>(平日) 10:00-19:00  (假日) 09:00-19:00</td>\n",
       "      <td>將軍區</td>\n",
       "      <td>725 臺南市將軍區平沙里140號</td>\n",
       "      <td>+886-6-7930937</td>\n",
       "      <td>NaN</td>\n",
       "      <td>23.21661</td>\n",
       "      <td>120.08369</td>\n",
       "      <td>NaN</td>\n",
       "      <td>戶外運動、休閒農漁</td>\n",
       "      <td>2019-09-19 10:32:08</td>\n",
       "    </tr>\n",
       "    <tr>\n",
       "      <th>3</th>\n",
       "      <td>469</td>\n",
       "      <td>zh-tw</td>\n",
       "      <td>將軍漁港</td>\n",
       "      <td>NaN</td>\n",
       "      <td>\\r\\n漁船回港後，琳瑯滿目的漁獲在港邊拍賣的熱鬧景象，一直是將軍漁港在許多遊客心中的印象。...</td>\n",
       "      <td>全年開放</td>\n",
       "      <td>將軍區</td>\n",
       "      <td>725 臺南市將軍區平沙里156號</td>\n",
       "      <td>+886-6-7930460</td>\n",
       "      <td>NaN</td>\n",
       "      <td>23.21117</td>\n",
       "      <td>120.08859</td>\n",
       "      <td>NaN</td>\n",
       "      <td>休閒農漁</td>\n",
       "      <td>2019-09-19 10:55:41</td>\n",
       "    </tr>\n",
       "    <tr>\n",
       "      <th>4</th>\n",
       "      <td>470</td>\n",
       "      <td>zh-tw</td>\n",
       "      <td>七股潟湖</td>\n",
       "      <td>面積約1600公頃，原是300多年前的台江內海遺跡，當地俗稱「內海仔」，搭乘膠筏遊潟湖是體驗...</td>\n",
       "      <td>當地俗稱「內海仔」，是300多年前的台江內海遺跡，面積約1600公頃，搭乘竹筏遊潟湖是體驗七...</td>\n",
       "      <td>全天開放</td>\n",
       "      <td>七股區</td>\n",
       "      <td>724 臺南市七股區三股里</td>\n",
       "      <td>+886-6-7861000</td>\n",
       "      <td>NaN</td>\n",
       "      <td>23.12359</td>\n",
       "      <td>120.07842</td>\n",
       "      <td>NaN</td>\n",
       "      <td>生態教育、自然景觀、休閒農漁</td>\n",
       "      <td>2019-09-18 15:44:13</td>\n",
       "    </tr>\n",
       "  </tbody>\n",
       "</table>\n",
       "</div>"
      ],
      "text/plain": [
       "    id   lang      name                                            summary  \\\n",
       "0  466  zh-tw    南鯤鯓代天府                                                NaN   \n",
       "1  467  zh-tw   東隆宮文化中心                                                NaN   \n",
       "2  468  zh-tw  馬沙溝濱海遊憩區                                                      \n",
       "3  469  zh-tw      將軍漁港                                                NaN   \n",
       "4  470  zh-tw      七股潟湖  面積約1600公頃，原是300多年前的台江內海遺跡，當地俗稱「內海仔」，搭乘膠筏遊潟湖是體驗...   \n",
       "\n",
       "                                        introduction  \\\n",
       "0  在許多台南人的記憶當中，對南鯤鯓代天府的印象就是超熱鬧的廟會，每天參拜進香的信徒及慕名而來的...   \n",
       "1  來到北門區三寮灣，不管從哪個方向，遠遠的都可以看到七樓高的「東隆宮文化中心」，在小漁村內顯得...   \n",
       "2  約莫在1980年代可說是馬沙溝最輝煌的時期，夏天的海邊總是人山人海，攤販、陽傘、水上活動琳瑯...   \n",
       "3  \\r\\n漁船回港後，琳瑯滿目的漁獲在港邊拍賣的熱鬧景象，一直是將軍漁港在許多遊客心中的印象。...   \n",
       "4  當地俗稱「內海仔」，是300多年前的台江內海遺跡，面積約1600公頃，搭乘竹筏遊潟湖是體驗七...   \n",
       "\n",
       "                                           open_time district  \\\n",
       "0  主殿-06:00~21:00、大鯤園-08:00~17:00、凌霄寶殿-07:30~17:0...      北門區   \n",
       "1                       08:30~11:30 12:30~16:30，全年開放      北門區   \n",
       "2                 (平日) 10:00-19:00  (假日) 09:00-19:00      將軍區   \n",
       "3                                               全年開放      將軍區   \n",
       "4                                               全天開放      七股區   \n",
       "\n",
       "                  address             tel             fax       lat  \\\n",
       "0        727 臺南市北門區鯤江976號  +886-6-7863711             NaN  23.28647   \n",
       "1  727 臺南市北門區三光里三寮灣127-3號  +886-6-7850355  +886-6-7850356  23.23833   \n",
       "2       725 臺南市將軍區平沙里140號  +886-6-7930937             NaN  23.21661   \n",
       "3       725 臺南市將軍區平沙里156號  +886-6-7930460             NaN  23.21117   \n",
       "4           724 臺南市七股區三股里  +886-6-7861000             NaN  23.12359   \n",
       "\n",
       "        long services        category          update_time  \n",
       "0  120.14159      NaN  歷史古蹟、宗教廟宇、在地藝文  2019-09-18 16:08:44  \n",
       "1  120.11180      NaN       地方展館、在地藝文  2019-09-19 10:17:36  \n",
       "2  120.08369      NaN       戶外運動、休閒農漁  2019-09-19 10:32:08  \n",
       "3  120.08859      NaN            休閒農漁  2019-09-19 10:55:41  \n",
       "4  120.07842      NaN  生態教育、自然景觀、休閒農漁  2019-09-18 15:44:13  "
      ]
     },
     "execution_count": 4,
     "metadata": {},
     "output_type": "execute_result"
    }
   ],
   "source": [
    "df.head()"
   ]
  },
  {
   "cell_type": "code",
   "execution_count": 6,
   "metadata": {},
   "outputs": [],
   "source": [
    "ALL = 'ALL'\n",
    "def allOption(array):\n",
    "    options = array.unique().tolist()\n",
    "    options.sort()\n",
    "    options.insert(0, ALL)\n",
    "    return options"
   ]
  },
  {
   "cell_type": "code",
   "execution_count": 8,
   "metadata": {},
   "outputs": [],
   "source": [
    "import ipywidgets as widgets\n",
    "from IPython.display import display\n",
    "dropdown_district = widgets.Dropdown(options =allOption(df.district))"
   ]
  },
  {
   "cell_type": "markdown",
   "metadata": {},
   "source": [
    "#### 之前的暴力輸入"
   ]
  },
  {
   "cell_type": "markdown",
   "metadata": {},
   "source": [
    "interact(f, \n",
    "         地區=['All','永康區','安南區' , '東區','北區','中西區','南區','新營區','仁德區','歸仁區','安平區','佳里區','善化區','麻豆區','新化區','新市區','關廟區','安定區','白河區','學甲區','鹽水區','西港區','下營區','後壁區','七股區','六甲區','官田區','柳營區','東山區','將軍區','玉井區','北門區','大內區','楠西區','南化區','山上區','左鎮區','龍崎區'],\n",
    "         類別=['All','歷史古蹟','在地藝文','宗教廟宇','地方展館','自然景觀','生態教育','休閒農漁','主題園區','消費娛樂','公園綠地']);"
   ]
  },
  {
   "cell_type": "markdown",
   "metadata": {},
   "source": [
    "#### 改良版：直接sort地區"
   ]
  },
  {
   "cell_type": "code",
   "execution_count": 9,
   "metadata": {},
   "outputs": [
    {
     "data": {
      "application/vnd.jupyter.widget-view+json": {
       "model_id": "acad2c2109d34141a168e9460b7893d9",
       "version_major": 2,
       "version_minor": 0
      },
      "text/plain": [
       "Dropdown(options=('ALL', '七股區', '下營區', '中西區', '仁德區', '佳里區', '六甲區', '北區', '北門區', '南化區', '南區', '善化區', '大內區', '學甲…"
      ]
     },
     "metadata": {},
     "output_type": "display_data"
    }
   ],
   "source": [
    "display(dropdown_district)"
   ]
  }
 ],
 "metadata": {
  "kernelspec": {
   "display_name": "Python 3",
   "language": "python",
   "name": "python3"
  },
  "language_info": {
   "codemirror_mode": {
    "name": "ipython",
    "version": 3
   },
   "file_extension": ".py",
   "mimetype": "text/x-python",
   "name": "python",
   "nbconvert_exporter": "python",
   "pygments_lexer": "ipython3",
   "version": "3.7.3"
  }
 },
 "nbformat": 4,
 "nbformat_minor": 2
}
