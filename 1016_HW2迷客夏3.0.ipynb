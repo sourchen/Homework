{
 "cells": [
  {
   "cell_type": "code",
   "execution_count": 15,
   "metadata": {},
   "outputs": [],
   "source": [
    "%matplotlib inline\n",
    "\n",
    "import numpy as np\n",
    "import matplotlib.pyplot as plt\n",
    "import pandas as pd"
   ]
  },
  {
   "cell_type": "code",
   "execution_count": 16,
   "metadata": {},
   "outputs": [
    {
     "name": "stdout",
     "output_type": "stream",
     "text": [
      "Overwriting test.txt\n"
     ]
    }
   ],
   "source": [
    "%%writefile \"test.txt\"\n",
    "蜂農花蜜茶 45\n",
    "冰糖洛神梅 45\n",
    "養樂多綠 50\n",
    "甘蔗青茶 55\n",
    "青檸香茶 50\n",
    "冰萃檸檬 50\n",
    "柳丁綠茶 55\n",
    "珍珠紅茶拿鐵 65\n",
    "伯爵紅茶拿鐵 55\n",
    "大正紅茶拿鐵 55\n",
    "仙草凍茶拿鐵 65\n",
    "大正紅茶 25 \n",
    "初露青茶 30\n",
    "高峰烏龍綠 25 \n",
    "決明大麥 25\n",
    "茉香綠茶 25 \n",
    "英倫伯爵紅茶 30"
   ]
  },
  {
   "cell_type": "code",
   "execution_count": 17,
   "metadata": {},
   "outputs": [
    {
     "name": "stdout",
     "output_type": "stream",
     "text": [
      "1001_HW1星座運勢.ipynb                  1016_HW2匯入檔案.ipynb\r\n",
      "1001_HW2迷客夏隨便選.ipynb              README.md\r\n",
      "1001_HW3今天口紅擦什麼.ipynb            mydic.csv\r\n",
      "1016_ClassNote.ipynb                    mydic.pickle\r\n",
      "1016_HW1計算字串的關鍵字.ipynb          test.txt\r\n"
     ]
    }
   ],
   "source": [
    "%ls"
   ]
  },
  {
   "cell_type": "code",
   "execution_count": 18,
   "metadata": {},
   "outputs": [
    {
     "name": "stdout",
     "output_type": "stream",
     "text": [
      "蜂農花蜜茶 45\r\n",
      "冰糖洛神梅 45\r\n",
      "養樂多綠 50\r\n",
      "甘蔗青茶 55\r\n",
      "青檸香茶 50\r\n",
      "冰萃檸檬 50\r\n",
      "柳丁綠茶 55\r\n",
      "珍珠紅茶拿鐵 65\r\n",
      "伯爵紅茶拿鐵 55\r\n",
      "大正紅茶拿鐵 55\r\n",
      "仙草凍茶拿鐵 65\r\n",
      "大正紅茶 25 \r\n",
      "初露青茶 30\r\n",
      "高峰烏龍綠 25 \r\n",
      "決明大麥 25\r\n",
      "茉香綠茶 25 \r\n",
      "英倫伯爵紅茶 30\r\n"
     ]
    }
   ],
   "source": [
    "%cat \"test.txt\""
   ]
  },
  {
   "cell_type": "code",
   "execution_count": 19,
   "metadata": {},
   "outputs": [],
   "source": [
    "f = open('test.txt' ,'r')"
   ]
  },
  {
   "cell_type": "code",
   "execution_count": 20,
   "metadata": {},
   "outputs": [],
   "source": [
    "spam = f.readlines()"
   ]
  },
  {
   "cell_type": "code",
   "execution_count": 21,
   "metadata": {},
   "outputs": [],
   "source": [
    "f.close()"
   ]
  },
  {
   "cell_type": "code",
   "execution_count": 22,
   "metadata": {},
   "outputs": [
    {
     "data": {
      "text/plain": [
       "['蜂農花蜜茶 45\\n',\n",
       " '冰糖洛神梅 45\\n',\n",
       " '養樂多綠 50\\n',\n",
       " '甘蔗青茶 55\\n',\n",
       " '青檸香茶 50\\n',\n",
       " '冰萃檸檬 50\\n',\n",
       " '柳丁綠茶 55\\n',\n",
       " '珍珠紅茶拿鐵 65\\n',\n",
       " '伯爵紅茶拿鐵 55\\n',\n",
       " '大正紅茶拿鐵 55\\n',\n",
       " '仙草凍茶拿鐵 65\\n',\n",
       " '大正紅茶 25 \\n',\n",
       " '初露青茶 30\\n',\n",
       " '高峰烏龍綠 25 \\n',\n",
       " '決明大麥 25\\n',\n",
       " '茉香綠茶 25 \\n',\n",
       " '英倫伯爵紅茶 30\\n']"
      ]
     },
     "execution_count": 22,
     "metadata": {},
     "output_type": "execute_result"
    }
   ],
   "source": [
    "spam"
   ]
  },
  {
   "cell_type": "code",
   "execution_count": 30,
   "metadata": {},
   "outputs": [],
   "source": [
    "newdic = {}\n",
    "for line in spam:\n",
    "    lines = line.rstrip(\"\\n\").split()\n",
    "    item,price = lines\n",
    "    newdic[item] = price"
   ]
  },
  {
   "cell_type": "code",
   "execution_count": 31,
   "metadata": {},
   "outputs": [
    {
     "data": {
      "text/plain": [
       "{'蜂農花蜜茶': '45',\n",
       " '冰糖洛神梅': '45',\n",
       " '養樂多綠': '50',\n",
       " '甘蔗青茶': '55',\n",
       " '青檸香茶': '50',\n",
       " '冰萃檸檬': '50',\n",
       " '柳丁綠茶': '55',\n",
       " '珍珠紅茶拿鐵': '65',\n",
       " '伯爵紅茶拿鐵': '55',\n",
       " '大正紅茶拿鐵': '55',\n",
       " '仙草凍茶拿鐵': '65',\n",
       " '大正紅茶': '25',\n",
       " '初露青茶': '30',\n",
       " '高峰烏龍綠': '25',\n",
       " '決明大麥': '25',\n",
       " '茉香綠茶': '25',\n",
       " '英倫伯爵紅茶': '30'}"
      ]
     },
     "execution_count": 31,
     "metadata": {},
     "output_type": "execute_result"
    }
   ],
   "source": [
    "newdic"
   ]
  },
  {
   "cell_type": "code",
   "execution_count": 38,
   "metadata": {},
   "outputs": [
    {
     "data": {
      "text/plain": [
       "{'蜂農花蜜茶': '45',\n",
       " '冰糖洛神梅': '45',\n",
       " '養樂多綠': '50',\n",
       " '甘蔗青茶': '55',\n",
       " '青檸香茶': '50',\n",
       " '冰萃檸檬': '50',\n",
       " '柳丁綠茶': '55',\n",
       " '珍珠紅茶拿鐵': '65',\n",
       " '伯爵紅茶拿鐵': '55',\n",
       " '大正紅茶拿鐵': '55',\n",
       " '仙草凍茶拿鐵': '65',\n",
       " '大正紅茶': '25',\n",
       " '初露青茶': '30',\n",
       " '高峰烏龍綠': '25',\n",
       " '決明大麥': '25',\n",
       " '茉香綠茶': '25',\n",
       " '英倫伯爵紅茶': '30'}"
      ]
     },
     "execution_count": 38,
     "metadata": {},
     "output_type": "execute_result"
    }
   ],
   "source": [
    "import pickle\n",
    "f = open(\"mydic.pickle\",\"wb\")\n",
    "pickle.dump(newdic, f) #存入\n",
    "f.close()\n",
    "\n",
    "f = open('mydic.pickle', 'rb')\n",
    "egg = pickle.load(f) \n",
    "f.close()\n",
    "egg"
   ]
  },
  {
   "cell_type": "code",
   "execution_count": null,
   "metadata": {},
   "outputs": [],
   "source": []
  },
  {
   "cell_type": "code",
   "execution_count": null,
   "metadata": {},
   "outputs": [],
   "source": []
  }
 ],
 "metadata": {
  "kernelspec": {
   "display_name": "Python 3",
   "language": "python",
   "name": "python3"
  },
  "language_info": {
   "codemirror_mode": {
    "name": "ipython",
    "version": 3
   },
   "file_extension": ".py",
   "mimetype": "text/x-python",
   "name": "python",
   "nbconvert_exporter": "python",
   "pygments_lexer": "ipython3",
   "version": "3.7.3"
  }
 },
 "nbformat": 4,
 "nbformat_minor": 2
}
