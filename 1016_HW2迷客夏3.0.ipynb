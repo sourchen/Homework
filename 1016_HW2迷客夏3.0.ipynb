{
 "cells": [
  {
   "cell_type": "code",
   "execution_count": null,
   "metadata": {},
   "outputs": [],
   "source": [
    "import pickle\n",
    "import numpy as np\n",
    "import matplotlib.pyplot as plt\n",
    "import pandas as pd\n",
    "from numpy.random import randint\n",
    "from numpy.random import choice\n",
    "\n",
    "import ipywidgets as widgets\n",
    "from ipywidgets import interact\n",
    "from ipywidgets import interact_manual\n",
    "from IPython.display import display"
   ]
  },
  {
   "cell_type": "code",
   "execution_count": null,
   "metadata": {},
   "outputs": [],
   "source": [
    "f = open('mydic.pickle', 'rb')\n",
    "items = pickle.load(f) \n",
    "f.close()\n",
    "\n"
   ]
  },
  {
   "cell_type": "code",
   "execution_count": null,
   "metadata": {},
   "outputs": [],
   "source": [
    "\n",
    "phrase1 = items.split(\"\\n\")\n",
    "l = randint(1,2) \n",
    "random_special = choice(phrase1,l)\n",
    "today_special=' '.join(random_special) \n",
    "\n",
    "print(\"歡迎光臨迷客夏，請問今天要喝什麼呢？\")\n",
    "\n",
    "btn_reply= widgets.Button(description='今日推薦')\n",
    "\n",
    "def show(choose_type):\n",
    "    if(choose_type == '特調茶飲'):\n",
    "        print(\"特調茶飲的話，我推薦您\" + today_special)\n",
    "    elif(choose_type == '茶類'):\n",
    "        print(\"茶類的話，我推薦您\" + today_tea)\n",
    "    else:\n",
    "        print(\"牛奶類的話，我推薦您\" + today_milk)\n",
    "    \n",
    "def btn_eventhandler_reply(obj):\n",
    "    print(\"那要什麼類呢？\")\n",
    "    interact_manual(show,\n",
    "         choose_type = widgets.Dropdown(\n",
    "             options=['特調茶飲','茶類' , '牛奶類'],\n",
    "             description='類別',\n",
    "             disabled=False,\n",
    "         ),\n",
    "        );\n",
    "\n",
    "btn_reply.on_click(btn_eventhandler_reply)\n",
    "\n",
    "display(btn_reply)\n",
    "\n"
   ]
  },
  {
   "cell_type": "code",
   "execution_count": null,
   "metadata": {},
   "outputs": [],
   "source": []
  },
  {
   "cell_type": "code",
   "execution_count": null,
   "metadata": {},
   "outputs": [],
   "source": []
  }
 ],
 "metadata": {
  "kernelspec": {
   "display_name": "Python 3",
   "language": "python",
   "name": "python3"
  },
  "language_info": {
   "codemirror_mode": {
    "name": "ipython",
    "version": 3
   },
   "file_extension": ".py",
   "mimetype": "text/x-python",
   "name": "python",
   "nbconvert_exporter": "python",
   "pygments_lexer": "ipython3",
   "version": "3.7.3"
  }
 },
 "nbformat": 4,
 "nbformat_minor": 2
}
