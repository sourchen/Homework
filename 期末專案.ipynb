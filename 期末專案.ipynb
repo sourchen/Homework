{
 "cells": [
  {
   "cell_type": "markdown",
   "metadata": {},
   "source": [
    "## * 想解決的問題：\n",
    "#### 外國朋友要來台灣玩，問了住宿的大概預算。因為很少在台灣使用airbnb，所以藉分析資料，來看房價大致分布。"
   ]
  },
  {
   "cell_type": "code",
   "execution_count": 1,
   "metadata": {},
   "outputs": [
    {
     "name": "stdout",
     "output_type": "stream",
     "text": [
      "Requirement already satisfied: plotly in /anaconda3/lib/python3.7/site-packages (4.4.1)\n",
      "Requirement already satisfied: retrying>=1.3.3 in /anaconda3/lib/python3.7/site-packages (from plotly) (1.3.3)\n",
      "Requirement already satisfied: six in /anaconda3/lib/python3.7/site-packages (from plotly) (1.12.0)\n",
      "Note: you may need to restart the kernel to use updated packages.\n"
     ]
    }
   ],
   "source": [
    "pip install plotly"
   ]
  },
  {
   "cell_type": "markdown",
   "metadata": {},
   "source": [
    "## 讀入套件"
   ]
  },
  {
   "cell_type": "code",
   "execution_count": 2,
   "metadata": {},
   "outputs": [],
   "source": [
    "import pandas as pd\n",
    "import numpy as np\n",
    "import seaborn as sns\n",
    "import matplotlib.pyplot as plt\n",
    "%matplotlib inline      "
   ]
  },
  {
   "cell_type": "code",
   "execution_count": 3,
   "metadata": {},
   "outputs": [],
   "source": [
    "# from plotly import tools\n",
    "from plotly.offline import iplot\n",
    "from plotly.offline import init_notebook_mode"
   ]
  },
  {
   "cell_type": "code",
   "execution_count": 4,
   "metadata": {},
   "outputs": [
    {
     "data": {
      "text/html": [
       "        <script type=\"text/javascript\">\n",
       "        window.PlotlyConfig = {MathJaxConfig: 'local'};\n",
       "        if (window.MathJax) {MathJax.Hub.Config({SVG: {font: \"STIX-Web\"}});}\n",
       "        if (typeof require !== 'undefined') {\n",
       "        require.undef(\"plotly\");\n",
       "        requirejs.config({\n",
       "            paths: {\n",
       "                'plotly': ['https://cdn.plot.ly/plotly-latest.min']\n",
       "            }\n",
       "        });\n",
       "        require(['plotly'], function(Plotly) {\n",
       "            window._Plotly = Plotly;\n",
       "        });\n",
       "        }\n",
       "        </script>\n",
       "        "
      ]
     },
     "metadata": {},
     "output_type": "display_data"
    }
   ],
   "source": [
    "init_notebook_mode(connected=True)\n",
    "import plotly.graph_objs as go\n",
    "import plotly.tools as ts\n",
    "import plotly.figure_factory as ff"
   ]
  },
  {
   "cell_type": "code",
   "execution_count": 5,
   "metadata": {},
   "outputs": [],
   "source": [
    "import matplotlib.pyplot as plt  \n",
    "plt.rcParams['font.sans-serif'] = [u'SimHei']\n",
    "plt.rcParams['axes.unicode_minus'] = False"
   ]
  },
  {
   "cell_type": "markdown",
   "metadata": {},
   "source": [
    "### 資料來源 http://insideairbnb.com/get-the-data.html"
   ]
  },
  {
   "cell_type": "markdown",
   "metadata": {},
   "source": [
    "### 有差不多一年份的資料，以及到明年目前的房客預訂情況。"
   ]
  },
  {
   "cell_type": "code",
   "execution_count": 6,
   "metadata": {},
   "outputs": [
    {
     "name": "stdout",
     "output_type": "stream",
     "text": [
      "我們有 369 天還有 10016 不同的清單在我們的calendar中\n",
      "2019-11-30 2020-12-02\n"
     ]
    },
    {
     "data": {
      "text/html": [
       "<div>\n",
       "<style scoped>\n",
       "    .dataframe tbody tr th:only-of-type {\n",
       "        vertical-align: middle;\n",
       "    }\n",
       "\n",
       "    .dataframe tbody tr th {\n",
       "        vertical-align: top;\n",
       "    }\n",
       "\n",
       "    .dataframe thead th {\n",
       "        text-align: right;\n",
       "    }\n",
       "</style>\n",
       "<table border=\"1\" class=\"dataframe\">\n",
       "  <thead>\n",
       "    <tr style=\"text-align: right;\">\n",
       "      <th></th>\n",
       "      <th>listing_id</th>\n",
       "      <th>date</th>\n",
       "      <th>available</th>\n",
       "      <th>price</th>\n",
       "      <th>adjusted_price</th>\n",
       "      <th>minimum_nights</th>\n",
       "      <th>maximum_nights</th>\n",
       "    </tr>\n",
       "  </thead>\n",
       "  <tbody>\n",
       "    <tr>\n",
       "      <th>0</th>\n",
       "      <td>1769554</td>\n",
       "      <td>2019-12-01</td>\n",
       "      <td>f</td>\n",
       "      <td>$1,985.00</td>\n",
       "      <td>$1,985.00</td>\n",
       "      <td>2.0</td>\n",
       "      <td>35.0</td>\n",
       "    </tr>\n",
       "    <tr>\n",
       "      <th>1</th>\n",
       "      <td>876209</td>\n",
       "      <td>2019-12-01</td>\n",
       "      <td>f</td>\n",
       "      <td>$1,282.00</td>\n",
       "      <td>$1,282.00</td>\n",
       "      <td>5.0</td>\n",
       "      <td>1125.0</td>\n",
       "    </tr>\n",
       "    <tr>\n",
       "      <th>2</th>\n",
       "      <td>876209</td>\n",
       "      <td>2019-12-02</td>\n",
       "      <td>f</td>\n",
       "      <td>$1,282.00</td>\n",
       "      <td>$1,282.00</td>\n",
       "      <td>5.0</td>\n",
       "      <td>1125.0</td>\n",
       "    </tr>\n",
       "    <tr>\n",
       "      <th>3</th>\n",
       "      <td>876209</td>\n",
       "      <td>2019-12-03</td>\n",
       "      <td>f</td>\n",
       "      <td>$1,282.00</td>\n",
       "      <td>$1,282.00</td>\n",
       "      <td>5.0</td>\n",
       "      <td>1125.0</td>\n",
       "    </tr>\n",
       "    <tr>\n",
       "      <th>4</th>\n",
       "      <td>876209</td>\n",
       "      <td>2019-12-04</td>\n",
       "      <td>f</td>\n",
       "      <td>$1,313.00</td>\n",
       "      <td>$1,313.00</td>\n",
       "      <td>5.0</td>\n",
       "      <td>1125.0</td>\n",
       "    </tr>\n",
       "  </tbody>\n",
       "</table>\n",
       "</div>"
      ],
      "text/plain": [
       "   listing_id        date available      price adjusted_price  minimum_nights  \\\n",
       "0     1769554  2019-12-01         f  $1,985.00      $1,985.00             2.0   \n",
       "1      876209  2019-12-01         f  $1,282.00      $1,282.00             5.0   \n",
       "2      876209  2019-12-02         f  $1,282.00      $1,282.00             5.0   \n",
       "3      876209  2019-12-03         f  $1,282.00      $1,282.00             5.0   \n",
       "4      876209  2019-12-04         f  $1,313.00      $1,313.00             5.0   \n",
       "\n",
       "   maximum_nights  \n",
       "0            35.0  \n",
       "1          1125.0  \n",
       "2          1125.0  \n",
       "3          1125.0  \n",
       "4          1125.0  "
      ]
     },
     "execution_count": 6,
     "metadata": {},
     "output_type": "execute_result"
    }
   ],
   "source": [
    "calendar = pd.read_csv('/Users/sourchen/Downloads/calendar.csv')\n",
    "print('我們有',calendar.date.nunique() , '天還有' , calendar.listing_id.nunique() ,'不同的清單在我們的calendar中')\n",
    "print(calendar.date.min() , calendar.date.max())\n",
    "calendar.head()\n"
   ]
  },
  {
   "cell_type": "markdown",
   "metadata": {},
   "source": [
    "## Airbnb的淡旺季"
   ]
  },
  {
   "cell_type": "markdown",
   "metadata": {},
   "source": [
    "#### available : False，代表說是旺季（比較熱門）"
   ]
  },
  {
   "cell_type": "code",
   "execution_count": 7,
   "metadata": {
    "scrolled": true
   },
   "outputs": [
    {
     "name": "stderr",
     "output_type": "stream",
     "text": [
      "//anaconda3/lib/python3.7/site-packages/pandas/plotting/_converter.py:129: FutureWarning:\n",
      "\n",
      "Using an implicitly registered datetime converter for a matplotlib plotting method. The converter was registered by pandas on import. Future versions of pandas will require you to explicitly register matplotlib converters.\n",
      "\n",
      "To register the converters:\n",
      "\t>>> from pandas.plotting import register_matplotlib_converters\n",
      "\t>>> register_matplotlib_converters()\n",
      "\n"
     ]
    },
    {
     "data": {
      "text/plain": [
       "Text(0, 0.5, '%Busy')"
      ]
     },
     "execution_count": 7,
     "metadata": {},
     "output_type": "execute_result"
    },
    {
     "name": "stderr",
     "output_type": "stream",
     "text": [
      "findfont: Font family ['sans-serif'] not found. Falling back to DejaVu Sans.\n",
      "findfont: Font family ['sans-serif'] not found. Falling back to DejaVu Sans.\n"
     ]
    },
    {
     "data": {
      "image/png": "[encoded data removed]",
      "text/plain": [
       "<Figure size 720x360 with 1 Axes>"
      ]
     },
     "metadata": {
      "needs_background": "light"
     },
     "output_type": "display_data"
    }
   ],
   "source": [
    "new_calendar = calendar[['date' , 'available']]\n",
    "new_calendar['busy'] = new_calendar.available.map(lambda x:0 if x == 't' else 1)\n",
    "new_calendar = new_calendar.groupby('date')['busy'].mean().reset_index()\n",
    "\n",
    "new_calendar['date'] = pd.to_datetime(new_calendar['date'])\n",
    "\n",
    "plt.figure(figsize = (10 , 5))\n",
    "plt.plot(new_calendar['date'] , new_calendar['busy'])\n",
    "plt.title('Airbnb Taipei Calendar')\n",
    "plt.ylabel('%Busy')"
   ]
  },
  {
   "cell_type": "markdown",
   "metadata": {},
   "source": [
    "## 價格資料"
   ]
  },
  {
   "cell_type": "markdown",
   "metadata": {},
   "source": [
    "#### 12月價格超高"
   ]
  },
  {
   "cell_type": "code",
   "execution_count": 8,
   "metadata": {},
   "outputs": [
    {
     "data": {
      "text/plain": [
       "Text(0, 0.5, 'Month')"
      ]
     },
     "execution_count": 8,
     "metadata": {},
     "output_type": "execute_result"
    },
    {
     "data": {
      "image/png": "[encoded data removed]",
      "text/plain": [
       "<Figure size 864x504 with 1 Axes>"
      ]
     },
     "metadata": {
      "needs_background": "light"
     },
     "output_type": "display_data"
    }
   ],
   "source": [
    "calendar['date'] = pd.to_datetime(calendar['date'])\n",
    "calendar['price'] = calendar['price'].str.replace(',','').str.replace('$' , '').astype(float)\n",
    "\n",
    "mean_of_month = calendar.groupby(calendar['date'].dt.strftime('%B') , sort = False)['price'].mean()\n",
    "\n",
    "mean_of_month.plot(kind = 'barh' , figsize = (12,7))\n",
    "plt.xlabel('average monthly price')\n",
    "plt.ylabel('Month')"
   ]
  },
  {
   "cell_type": "code",
   "execution_count": 9,
   "metadata": {},
   "outputs": [],
   "source": [
    "calendar['dayofweek'] = calendar.date.dt.weekday_name\n",
    "cats = calendar.dayofweek.unique().tolist()\n",
    "price_week = calendar.groupby('dayofweek')['price'].mean().reindex(cats)"
   ]
  },
  {
   "cell_type": "markdown",
   "metadata": {},
   "source": [
    "#### 禮拜五、六人很多"
   ]
  },
  {
   "cell_type": "code",
   "execution_count": 10,
   "metadata": {},
   "outputs": [
    {
     "data": {
      "text/plain": [
       "<matplotlib.axes._subplots.AxesSubplot at 0x1c294ea5c0>"
      ]
     },
     "execution_count": 10,
     "metadata": {},
     "output_type": "execute_result"
    },
    {
     "data": {
      "image/png": "[encoded data removed]",
      "text/plain": [
       "<Figure size 432x288 with 1 Axes>"
      ]
     },
     "metadata": {
      "needs_background": "light"
     },
     "output_type": "display_data"
    }
   ],
   "source": [
    "price_week.plot()"
   ]
  },
  {
   "cell_type": "code",
   "execution_count": 23,
   "metadata": {},
   "outputs": [
    {
     "name": "stdout",
     "output_type": "stream",
     "text": [
      "We have 10016 listings in the listing data\n",
      "<class 'pandas.core.frame.DataFrame'>\n",
      "RangeIndex: 10016 entries, 0 to 10015\n",
      "Columns: 106 entries, id to reviews_per_month\n",
      "dtypes: float64(23), int64(21), object(62)\n",
      "memory usage: 8.1+ MB\n"
     ]
    },
    {
     "data": {
      "text/html": [
       "<div>\n",
       "<style scoped>\n",
       "    .dataframe tbody tr th:only-of-type {\n",
       "        vertical-align: middle;\n",
       "    }\n",
       "\n",
       "    .dataframe tbody tr th {\n",
       "        vertical-align: top;\n",
       "    }\n",
       "\n",
       "    .dataframe thead th {\n",
       "        text-align: right;\n",
       "    }\n",
       "</style>\n",
       "<table border=\"1\" class=\"dataframe\">\n",
       "  <thead>\n",
       "    <tr style=\"text-align: right;\">\n",
       "      <th></th>\n",
       "      <th>id</th>\n",
       "      <th>listing_url</th>\n",
       "      <th>scrape_id</th>\n",
       "      <th>last_scraped</th>\n",
       "      <th>name</th>\n",
       "      <th>summary</th>\n",
       "      <th>space</th>\n",
       "      <th>description</th>\n",
       "      <th>experiences_offered</th>\n",
       "      <th>neighborhood_overview</th>\n",
       "      <th>...</th>\n",
       "      <th>instant_bookable</th>\n",
       "      <th>is_business_travel_ready</th>\n",
       "      <th>cancellation_policy</th>\n",
       "      <th>require_guest_profile_picture</th>\n",
       "      <th>require_guest_phone_verification</th>\n",
       "      <th>calculated_host_listings_count</th>\n",
       "      <th>calculated_host_listings_count_entire_homes</th>\n",
       "      <th>calculated_host_listings_count_private_rooms</th>\n",
       "      <th>calculated_host_listings_count_shared_rooms</th>\n",
       "      <th>reviews_per_month</th>\n",
       "    </tr>\n",
       "  </thead>\n",
       "  <tbody>\n",
       "    <tr>\n",
       "      <th>0</th>\n",
       "      <td>68396</td>\n",
       "      <td>https://www.airbnb.com/rooms/68396</td>\n",
       "      <td>20191130195643</td>\n",
       "      <td>2019-12-01</td>\n",
       "      <td>Zhongxiao Dunhua Studio C near MRT</td>\n",
       "      <td>Prime location! Right in the center of Taipei'...</td>\n",
       "      <td>Located at Zhongxiao East Road of Daan distric...</td>\n",
       "      <td>Prime location! Right in the center of Taipei'...</td>\n",
       "      <td>none</td>\n",
       "      <td>NaN</td>\n",
       "      <td>...</td>\n",
       "      <td>f</td>\n",
       "      <td>f</td>\n",
       "      <td>strict_14_with_grace_period</td>\n",
       "      <td>f</td>\n",
       "      <td>f</td>\n",
       "      <td>12</td>\n",
       "      <td>12</td>\n",
       "      <td>0</td>\n",
       "      <td>0</td>\n",
       "      <td>0.03</td>\n",
       "    </tr>\n",
       "    <tr>\n",
       "      <th>1</th>\n",
       "      <td>68398</td>\n",
       "      <td>https://www.airbnb.com/rooms/68398</td>\n",
       "      <td>20191130195643</td>\n",
       "      <td>2019-12-01</td>\n",
       "      <td>Tonghua Vacation Studio C near MRT &amp; Taipei 101</td>\n",
       "      <td>Convenient location; close to MRT and walking ...</td>\n",
       "      <td>Private Studio apartment with ensuite bathroom...</td>\n",
       "      <td>Convenient location; close to MRT and walking ...</td>\n",
       "      <td>none</td>\n",
       "      <td>Locates in a quiet neighborhood of Tonghua Str...</td>\n",
       "      <td>...</td>\n",
       "      <td>f</td>\n",
       "      <td>f</td>\n",
       "      <td>strict_14_with_grace_period</td>\n",
       "      <td>f</td>\n",
       "      <td>f</td>\n",
       "      <td>12</td>\n",
       "      <td>12</td>\n",
       "      <td>0</td>\n",
       "      <td>0</td>\n",
       "      <td>0.08</td>\n",
       "    </tr>\n",
       "    <tr>\n",
       "      <th>2</th>\n",
       "      <td>74641</td>\n",
       "      <td>https://www.airbnb.com/rooms/74641</td>\n",
       "      <td>20191130195643</td>\n",
       "      <td>2019-12-01</td>\n",
       "      <td>黑白雙人房@南京復興站｡小巨蛋斜對面｡溫泉式浴缸｡</td>\n",
       "      <td>私人衛浴大套房,距南京復興站走路2分鐘｡面對7-11便利商店,旁邊就是南京微風百貨和IKEA...</td>\n",
       "      <td>你的套房裡有清爽安靜的空間,舒服的衛浴設備,無線網路Wi-fi,旅行需要洗衣服也沒問題,有洗...</td>\n",
       "      <td>私人衛浴大套房,距南京復興站走路2分鐘｡面對7-11便利商店,旁邊就是南京微風百貨和IKEA...</td>\n",
       "      <td>none</td>\n",
       "      <td>This area is what we called Business &amp; Residen...</td>\n",
       "      <td>...</td>\n",
       "      <td>f</td>\n",
       "      <td>f</td>\n",
       "      <td>strict_14_with_grace_period</td>\n",
       "      <td>f</td>\n",
       "      <td>f</td>\n",
       "      <td>4</td>\n",
       "      <td>0</td>\n",
       "      <td>4</td>\n",
       "      <td>0</td>\n",
       "      <td>0.49</td>\n",
       "    </tr>\n",
       "  </tbody>\n",
       "</table>\n",
       "<p>3 rows × 106 columns</p>\n",
       "</div>"
      ],
      "text/plain": [
       "      id                         listing_url       scrape_id last_scraped  \\\n",
       "0  68396  https://www.airbnb.com/rooms/68396  20191130195643   2019-12-01   \n",
       "1  68398  https://www.airbnb.com/rooms/68398  20191130195643   2019-12-01   \n",
       "2  74641  https://www.airbnb.com/rooms/74641  20191130195643   2019-12-01   \n",
       "\n",
       "                                              name  \\\n",
       "0               Zhongxiao Dunhua Studio C near MRT   \n",
       "1  Tonghua Vacation Studio C near MRT & Taipei 101   \n",
       "2                        黑白雙人房@南京復興站｡小巨蛋斜對面｡溫泉式浴缸｡   \n",
       "\n",
       "                                             summary  \\\n",
       "0  Prime location! Right in the center of Taipei'...   \n",
       "1  Convenient location; close to MRT and walking ...   \n",
       "2  私人衛浴大套房,距南京復興站走路2分鐘｡面對7-11便利商店,旁邊就是南京微風百貨和IKEA...   \n",
       "\n",
       "                                               space  \\\n",
       "0  Located at Zhongxiao East Road of Daan distric...   \n",
       "1  Private Studio apartment with ensuite bathroom...   \n",
       "2  你的套房裡有清爽安靜的空間,舒服的衛浴設備,無線網路Wi-fi,旅行需要洗衣服也沒問題,有洗...   \n",
       "\n",
       "                                         description experiences_offered  \\\n",
       "0  Prime location! Right in the center of Taipei'...                none   \n",
       "1  Convenient location; close to MRT and walking ...                none   \n",
       "2  私人衛浴大套房,距南京復興站走路2分鐘｡面對7-11便利商店,旁邊就是南京微風百貨和IKEA...                none   \n",
       "\n",
       "                               neighborhood_overview  ... instant_bookable  \\\n",
       "0                                                NaN  ...                f   \n",
       "1  Locates in a quiet neighborhood of Tonghua Str...  ...                f   \n",
       "2  This area is what we called Business & Residen...  ...                f   \n",
       "\n",
       "  is_business_travel_ready          cancellation_policy  \\\n",
       "0                        f  strict_14_with_grace_period   \n",
       "1                        f  strict_14_with_grace_period   \n",
       "2                        f  strict_14_with_grace_period   \n",
       "\n",
       "  require_guest_profile_picture require_guest_phone_verification  \\\n",
       "0                             f                                f   \n",
       "1                             f                                f   \n",
       "2                             f                                f   \n",
       "\n",
       "   calculated_host_listings_count  \\\n",
       "0                              12   \n",
       "1                              12   \n",
       "2                               4   \n",
       "\n",
       "   calculated_host_listings_count_entire_homes  \\\n",
       "0                                           12   \n",
       "1                                           12   \n",
       "2                                            0   \n",
       "\n",
       "  calculated_host_listings_count_private_rooms  \\\n",
       "0                                            0   \n",
       "1                                            0   \n",
       "2                                            4   \n",
       "\n",
       "   calculated_host_listings_count_shared_rooms  reviews_per_month  \n",
       "0                                            0               0.03  \n",
       "1                                            0               0.08  \n",
       "2                                            0               0.49  \n",
       "\n",
       "[3 rows x 106 columns]"
      ]
     },
     "execution_count": 23,
     "metadata": {},
     "output_type": "execute_result"
    }
   ],
   "source": [
    "listing = pd.read_csv('/Users/sourchen/Downloads/listings.csv')\n",
    "print('We have' , listing.id.nunique() , 'listings in the listing data')\n",
    "listing.info()\n",
    "listing.head(3)"
   ]
  },
  {
   "cell_type": "markdown",
   "metadata": {},
   "source": [
    "## 房價大致分布"
   ]
  },
  {
   "cell_type": "markdown",
   "metadata": {},
   "source": [
    "#### 30萬太貴了吧......\n",
    "#### 62元是租停車場嗎?!\n",
    "#### 平均2498就可以住一晚，好佛"
   ]
  },
  {
   "cell_type": "code",
   "execution_count": 24,
   "metadata": {},
   "outputs": [
    {
     "name": "stdout",
     "output_type": "stream",
     "text": [
      "count     10016.000000\n",
      "mean       2549.528055\n",
      "std        8899.049291\n",
      "min          61.000000\n",
      "25%        1008.000000\n",
      "50%        1557.000000\n",
      "75%        2504.000000\n",
      "max      305310.000000\n",
      "Name: price, dtype: float64\n"
     ]
    },
    {
     "data": {
      "image/png": "[encoded data removed]",
      "text/plain": [
       "<Figure size 864x432 with 1 Axes>"
      ]
     },
     "metadata": {
      "needs_background": "light"
     },
     "output_type": "display_data"
    }
   ],
   "source": [
    "listing['price'] = listing['price'].str.replace(',' , '').str.replace('$' , '').astype(float)\n",
    "\n",
    "print(listing.price.describe())\n",
    "plt.figure(figsize = (12 , 6))\n",
    "sns.distplot(listing.price.dropna() , rug = True)\n",
    "sns.despine()"
   ]
  },
  {
   "cell_type": "code",
   "execution_count": 25,
   "metadata": {},
   "outputs": [
    {
     "data": {
      "text/html": [
       "<div>\n",
       "<style scoped>\n",
       "    .dataframe tbody tr th:only-of-type {\n",
       "        vertical-align: middle;\n",
       "    }\n",
       "\n",
       "    .dataframe tbody tr th {\n",
       "        vertical-align: top;\n",
       "    }\n",
       "\n",
       "    .dataframe thead th {\n",
       "        text-align: right;\n",
       "    }\n",
       "</style>\n",
       "<table border=\"1\" class=\"dataframe\">\n",
       "  <thead>\n",
       "    <tr style=\"text-align: right;\">\n",
       "      <th></th>\n",
       "      <th>id</th>\n",
       "      <th>listing_url</th>\n",
       "      <th>scrape_id</th>\n",
       "      <th>last_scraped</th>\n",
       "      <th>name</th>\n",
       "      <th>summary</th>\n",
       "      <th>space</th>\n",
       "      <th>description</th>\n",
       "      <th>experiences_offered</th>\n",
       "      <th>neighborhood_overview</th>\n",
       "      <th>...</th>\n",
       "      <th>instant_bookable</th>\n",
       "      <th>is_business_travel_ready</th>\n",
       "      <th>cancellation_policy</th>\n",
       "      <th>require_guest_profile_picture</th>\n",
       "      <th>require_guest_phone_verification</th>\n",
       "      <th>calculated_host_listings_count</th>\n",
       "      <th>calculated_host_listings_count_entire_homes</th>\n",
       "      <th>calculated_host_listings_count_private_rooms</th>\n",
       "      <th>calculated_host_listings_count_shared_rooms</th>\n",
       "      <th>reviews_per_month</th>\n",
       "    </tr>\n",
       "  </thead>\n",
       "  <tbody>\n",
       "    <tr>\n",
       "      <th>371</th>\n",
       "      <td>3783777</td>\n",
       "      <td>https://www.airbnb.com/rooms/3783777</td>\n",
       "      <td>20191130195643</td>\n",
       "      <td>2019-12-01</td>\n",
       "      <td>Room in Beitou</td>\n",
       "      <td>It's my house. Old style taiwanese room in old...</td>\n",
       "      <td>NaN</td>\n",
       "      <td>It's my house. Old style taiwanese room in old...</td>\n",
       "      <td>none</td>\n",
       "      <td>NaN</td>\n",
       "      <td>...</td>\n",
       "      <td>f</td>\n",
       "      <td>f</td>\n",
       "      <td>strict_14_with_grace_period</td>\n",
       "      <td>f</td>\n",
       "      <td>f</td>\n",
       "      <td>13</td>\n",
       "      <td>0</td>\n",
       "      <td>6</td>\n",
       "      <td>7</td>\n",
       "      <td>0.09</td>\n",
       "    </tr>\n",
       "    <tr>\n",
       "      <th>456</th>\n",
       "      <td>4412881</td>\n",
       "      <td>https://www.airbnb.com/rooms/4412881</td>\n",
       "      <td>20191130195643</td>\n",
       "      <td>2019-12-01</td>\n",
       "      <td>市府捷運站Metro TaipeiCityHall Cozy room</td>\n",
       "      <td>訂房前請先讀所有事項Important!!! Before you booking the ...</td>\n",
       "      <td>The room size: 210 CM * 195 CM The room only p...</td>\n",
       "      <td>訂房前請先讀所有事項Important!!! Before you booking the ...</td>\n",
       "      <td>none</td>\n",
       "      <td>During you stay, you are recommended to visit ...</td>\n",
       "      <td>...</td>\n",
       "      <td>f</td>\n",
       "      <td>f</td>\n",
       "      <td>strict_14_with_grace_period</td>\n",
       "      <td>f</td>\n",
       "      <td>f</td>\n",
       "      <td>4</td>\n",
       "      <td>0</td>\n",
       "      <td>4</td>\n",
       "      <td>0</td>\n",
       "      <td>0.13</td>\n",
       "    </tr>\n",
       "    <tr>\n",
       "      <th>495</th>\n",
       "      <td>4607827</td>\n",
       "      <td>https://www.airbnb.com/rooms/4607827</td>\n",
       "      <td>20191130195643</td>\n",
       "      <td>2019-12-01</td>\n",
       "      <td>市府捷運站Metro Taipei CityHall bunk bed</td>\n",
       "      <td>訂房前請先讀所有事項 Important!!! Before you booking the...</td>\n",
       "      <td>*The room equipped with solid wood floor and b...</td>\n",
       "      <td>訂房前請先讀所有事項 Important!!! Before you booking the...</td>\n",
       "      <td>none</td>\n",
       "      <td>During you stay, you are recommended to visit ...</td>\n",
       "      <td>...</td>\n",
       "      <td>f</td>\n",
       "      <td>f</td>\n",
       "      <td>strict_14_with_grace_period</td>\n",
       "      <td>f</td>\n",
       "      <td>f</td>\n",
       "      <td>4</td>\n",
       "      <td>0</td>\n",
       "      <td>4</td>\n",
       "      <td>0</td>\n",
       "      <td>0.07</td>\n",
       "    </tr>\n",
       "    <tr>\n",
       "      <th>524</th>\n",
       "      <td>4738149</td>\n",
       "      <td>https://www.airbnb.com/rooms/4738149</td>\n",
       "      <td>20191130195643</td>\n",
       "      <td>2019-12-01</td>\n",
       "      <td>市府捷運站Metro TaipeiCityHall Bunk bed</td>\n",
       "      <td>Please check my other listings as well,as I of...</td>\n",
       "      <td>*The room equipped with TV &amp; solid wood floor ...</td>\n",
       "      <td>Please check my other listings as well,as I of...</td>\n",
       "      <td>none</td>\n",
       "      <td>During you stay, you are recommended to visit ...</td>\n",
       "      <td>...</td>\n",
       "      <td>f</td>\n",
       "      <td>f</td>\n",
       "      <td>strict_14_with_grace_period</td>\n",
       "      <td>f</td>\n",
       "      <td>f</td>\n",
       "      <td>4</td>\n",
       "      <td>0</td>\n",
       "      <td>4</td>\n",
       "      <td>0</td>\n",
       "      <td>NaN</td>\n",
       "    </tr>\n",
       "    <tr>\n",
       "      <th>1083</th>\n",
       "      <td>8525791</td>\n",
       "      <td>https://www.airbnb.com/rooms/8525791</td>\n",
       "      <td>20191130195643</td>\n",
       "      <td>2019-12-01</td>\n",
       "      <td>NaN</td>\n",
       "      <td>交通便宜</td>\n",
       "      <td>NaN</td>\n",
       "      <td>交通便宜</td>\n",
       "      <td>none</td>\n",
       "      <td>NaN</td>\n",
       "      <td>...</td>\n",
       "      <td>f</td>\n",
       "      <td>f</td>\n",
       "      <td>flexible</td>\n",
       "      <td>f</td>\n",
       "      <td>f</td>\n",
       "      <td>1</td>\n",
       "      <td>0</td>\n",
       "      <td>1</td>\n",
       "      <td>0</td>\n",
       "      <td>NaN</td>\n",
       "    </tr>\n",
       "    <tr>\n",
       "      <th>2315</th>\n",
       "      <td>14919394</td>\n",
       "      <td>https://www.airbnb.com/rooms/14919394</td>\n",
       "      <td>20191130195643</td>\n",
       "      <td>2019-12-01</td>\n",
       "      <td>Nice apartment, Near MRT Songshan Airport</td>\n",
       "      <td>Mon logement est proche de parcs, le centre vi...</td>\n",
       "      <td>It's located right in the heart of sophicated ...</td>\n",
       "      <td>Mon logement est proche de parcs, le centre vi...</td>\n",
       "      <td>none</td>\n",
       "      <td>There are a nice and quite famous restaurant c...</td>\n",
       "      <td>...</td>\n",
       "      <td>t</td>\n",
       "      <td>f</td>\n",
       "      <td>flexible</td>\n",
       "      <td>f</td>\n",
       "      <td>f</td>\n",
       "      <td>1</td>\n",
       "      <td>1</td>\n",
       "      <td>0</td>\n",
       "      <td>0</td>\n",
       "      <td>0.03</td>\n",
       "    </tr>\n",
       "    <tr>\n",
       "      <th>4012</th>\n",
       "      <td>21711457</td>\n",
       "      <td>https://www.airbnb.com/rooms/21711457</td>\n",
       "      <td>20191130195643</td>\n",
       "      <td>2019-11-30</td>\n",
       "      <td>Habitat of Wanderers</td>\n",
       "      <td>Hi</td>\n",
       "      <td>NaN</td>\n",
       "      <td>Hi</td>\n",
       "      <td>none</td>\n",
       "      <td>NaN</td>\n",
       "      <td>...</td>\n",
       "      <td>t</td>\n",
       "      <td>f</td>\n",
       "      <td>flexible</td>\n",
       "      <td>f</td>\n",
       "      <td>f</td>\n",
       "      <td>1</td>\n",
       "      <td>0</td>\n",
       "      <td>0</td>\n",
       "      <td>1</td>\n",
       "      <td>0.04</td>\n",
       "    </tr>\n",
       "  </tbody>\n",
       "</table>\n",
       "<p>7 rows × 106 columns</p>\n",
       "</div>"
      ],
      "text/plain": [
       "            id                            listing_url       scrape_id  \\\n",
       "371    3783777   https://www.airbnb.com/rooms/3783777  20191130195643   \n",
       "456    4412881   https://www.airbnb.com/rooms/4412881  20191130195643   \n",
       "495    4607827   https://www.airbnb.com/rooms/4607827  20191130195643   \n",
       "524    4738149   https://www.airbnb.com/rooms/4738149  20191130195643   \n",
       "1083   8525791   https://www.airbnb.com/rooms/8525791  20191130195643   \n",
       "2315  14919394  https://www.airbnb.com/rooms/14919394  20191130195643   \n",
       "4012  21711457  https://www.airbnb.com/rooms/21711457  20191130195643   \n",
       "\n",
       "     last_scraped                                       name  \\\n",
       "371    2019-12-01                             Room in Beitou   \n",
       "456    2019-12-01        市府捷運站Metro TaipeiCityHall Cozy room   \n",
       "495    2019-12-01        市府捷運站Metro Taipei CityHall bunk bed   \n",
       "524    2019-12-01         市府捷運站Metro TaipeiCityHall Bunk bed   \n",
       "1083   2019-12-01                                        NaN   \n",
       "2315   2019-12-01  Nice apartment, Near MRT Songshan Airport   \n",
       "4012   2019-11-30                       Habitat of Wanderers   \n",
       "\n",
       "                                                summary  \\\n",
       "371   It's my house. Old style taiwanese room in old...   \n",
       "456   訂房前請先讀所有事項Important!!! Before you booking the ...   \n",
       "495   訂房前請先讀所有事項 Important!!! Before you booking the...   \n",
       "524   Please check my other listings as well,as I of...   \n",
       "1083                                               交通便宜   \n",
       "2315  Mon logement est proche de parcs, le centre vi...   \n",
       "4012                                                 Hi   \n",
       "\n",
       "                                                  space  \\\n",
       "371                                                 NaN   \n",
       "456   The room size: 210 CM * 195 CM The room only p...   \n",
       "495   *The room equipped with solid wood floor and b...   \n",
       "524   *The room equipped with TV & solid wood floor ...   \n",
       "1083                                                NaN   \n",
       "2315  It's located right in the heart of sophicated ...   \n",
       "4012                                                NaN   \n",
       "\n",
       "                                            description experiences_offered  \\\n",
       "371   It's my house. Old style taiwanese room in old...                none   \n",
       "456   訂房前請先讀所有事項Important!!! Before you booking the ...                none   \n",
       "495   訂房前請先讀所有事項 Important!!! Before you booking the...                none   \n",
       "524   Please check my other listings as well,as I of...                none   \n",
       "1083                                               交通便宜                none   \n",
       "2315  Mon logement est proche de parcs, le centre vi...                none   \n",
       "4012                                                 Hi                none   \n",
       "\n",
       "                                  neighborhood_overview  ... instant_bookable  \\\n",
       "371                                                 NaN  ...                f   \n",
       "456   During you stay, you are recommended to visit ...  ...                f   \n",
       "495   During you stay, you are recommended to visit ...  ...                f   \n",
       "524   During you stay, you are recommended to visit ...  ...                f   \n",
       "1083                                                NaN  ...                f   \n",
       "2315  There are a nice and quite famous restaurant c...  ...                t   \n",
       "4012                                                NaN  ...                t   \n",
       "\n",
       "     is_business_travel_ready          cancellation_policy  \\\n",
       "371                         f  strict_14_with_grace_period   \n",
       "456                         f  strict_14_with_grace_period   \n",
       "495                         f  strict_14_with_grace_period   \n",
       "524                         f  strict_14_with_grace_period   \n",
       "1083                        f                     flexible   \n",
       "2315                        f                     flexible   \n",
       "4012                        f                     flexible   \n",
       "\n",
       "     require_guest_profile_picture require_guest_phone_verification  \\\n",
       "371                              f                                f   \n",
       "456                              f                                f   \n",
       "495                              f                                f   \n",
       "524                              f                                f   \n",
       "1083                             f                                f   \n",
       "2315                             f                                f   \n",
       "4012                             f                                f   \n",
       "\n",
       "      calculated_host_listings_count  \\\n",
       "371                               13   \n",
       "456                                4   \n",
       "495                                4   \n",
       "524                                4   \n",
       "1083                               1   \n",
       "2315                               1   \n",
       "4012                               1   \n",
       "\n",
       "      calculated_host_listings_count_entire_homes  \\\n",
       "371                                             0   \n",
       "456                                             0   \n",
       "495                                             0   \n",
       "524                                             0   \n",
       "1083                                            0   \n",
       "2315                                            1   \n",
       "4012                                            0   \n",
       "\n",
       "     calculated_host_listings_count_private_rooms  \\\n",
       "371                                             6   \n",
       "456                                             4   \n",
       "495                                             4   \n",
       "524                                             4   \n",
       "1083                                            1   \n",
       "2315                                            0   \n",
       "4012                                            0   \n",
       "\n",
       "      calculated_host_listings_count_shared_rooms  reviews_per_month  \n",
       "371                                             7               0.09  \n",
       "456                                             0               0.13  \n",
       "495                                             0               0.07  \n",
       "524                                             0                NaN  \n",
       "1083                                            0                NaN  \n",
       "2315                                            0               0.03  \n",
       "4012                                            1               0.04  \n",
       "\n",
       "[7 rows x 106 columns]"
      ]
     },
     "execution_count": 25,
     "metadata": {},
     "output_type": "execute_result"
    }
   ],
   "source": [
    "listing[listing.price > 290000]"
   ]
  },
  {
   "cell_type": "markdown",
   "metadata": {},
   "source": [
    "#### 把高於50,000的房子去掉，再畫一遍\n",
    "#### 看看大致一晚房價分佈"
   ]
  },
  {
   "cell_type": "code",
   "execution_count": 27,
   "metadata": {},
   "outputs": [
    {
     "data": {
      "image/png": "[encoded data removed]",
      "text/plain": [
       "<Figure size 864x432 with 1 Axes>"
      ]
     },
     "metadata": {
      "needs_background": "light"
     },
     "output_type": "display_data"
    }
   ],
   "source": [
    "plt.figure(figsize = (12 , 6))\n",
    "sns.distplot(listing[listing.price < 50000].price.dropna() , rug = True)\n",
    "sns.despine()"
   ]
  },
  {
   "cell_type": "markdown",
   "metadata": {},
   "source": [
    "#### 都差不多2000，真的蠻便宜的"
   ]
  },
  {
   "cell_type": "code",
   "execution_count": 29,
   "metadata": {},
   "outputs": [
    {
     "data": {
      "text/plain": [
       "Text(0.5, 0, 'Listing price')"
      ]
     },
     "execution_count": 29,
     "metadata": {},
     "output_type": "execute_result"
    },
    {
     "data": {
      "image/png": "[encoded data removed]",
      "text/plain": [
       "<Figure size 864x432 with 1 Axes>"
      ]
     },
     "metadata": {
      "needs_background": "light"
     },
     "output_type": "display_data"
    }
   ],
   "source": [
    "plt.figure(figsize = (12,6))\n",
    "listing.loc[(listing.price < 10000) & (listing.price > 300)].price.hist(bins  = 20)\n",
    "plt.ylabel('Count')\n",
    "plt.xlabel('Listing price')"
   ]
  },
  {
   "cell_type": "markdown",
   "metadata": {},
   "source": [
    "#### 冷氣、wifi是標配"
   ]
  },
  {
   "cell_type": "code",
   "execution_count": 33,
   "metadata": {},
   "outputs": [
    {
     "data": {
      "text/plain": [
       "(array([ 0,  1,  2,  3,  4,  5,  6,  7,  8,  9, 10, 11, 12, 13, 14, 15, 16,\n",
       "        17, 18, 19]), <a list of 20 Text xticklabel objects>)"
      ]
     },
     "execution_count": 33,
     "metadata": {},
     "output_type": "execute_result"
    },
    {
     "data": {
      "image/png": "[encoded data removed]",
      "text/plain": [
       "<Figure size 1296x432 with 1 Axes>"
      ]
     },
     "metadata": {
      "needs_background": "light"
     },
     "output_type": "display_data"
    }
   ],
   "source": [
    "listing['amenities'] = listing.amenities.str.replace('[{}]' , '').str.replace('\"','')\n",
    "listing.amenities.head()\n",
    "all_item_ls = np.concatenate(listing.amenities.map(lambda am:am.split(',')))\n",
    "Top20_item = pd.Series(all_item_ls).value_counts().head(20)\n",
    "plt.figure(figsize=  (18 , 6))\n",
    "Top20_item.plot(kind = 'bar')\n",
    "plt.xticks(rotation = 45)"
   ]
  }
 ],
 "metadata": {
  "kernelspec": {
   "display_name": "Python 3",
   "language": "python",
   "name": "python3"
  },
  "language_info": {
   "codemirror_mode": {
    "name": "ipython",
    "version": 3
   },
   "file_extension": ".py",
   "mimetype": "text/x-python",
   "name": "python",
   "nbconvert_exporter": "python",
   "pygments_lexer": "ipython3",
   "version": "3.7.3"
  }
 },
 "nbformat": 4,
 "nbformat_minor": 2
}
