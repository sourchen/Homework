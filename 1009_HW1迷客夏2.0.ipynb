{
 "cells": [
  {
   "cell_type": "code",
   "execution_count": 1,
   "metadata": {},
   "outputs": [],
   "source": [
    "%matplotlib inline\n",
    "\n",
    "import numpy as np\n",
    "import matplotlib.pyplot as plt\n",
    "import pandas as pd\n",
    "from numpy.random import randint\n",
    "from numpy.random import choice\n",
    "\n",
    "import ipywidgets as widgets\n",
    "from ipywidgets import interact\n",
    "from ipywidgets import interact_manual\n",
    "from IPython.display import display"
   ]
  },
  {
   "cell_type": "code",
   "execution_count": 2,
   "metadata": {},
   "outputs": [],
   "source": [
    "from ipywidgets import interact\n",
    "from ipywidgets import interact_manual"
   ]
  },
  {
   "cell_type": "code",
   "execution_count": 3,
   "metadata": {},
   "outputs": [],
   "source": [
    "from numpy.random import choice"
   ]
  },
  {
   "cell_type": "code",
   "execution_count": 4,
   "metadata": {},
   "outputs": [],
   "source": [
    "special='''蜂農花蜜茶\n",
    "冰糖洛神梅\n",
    "養樂多綠\n",
    "甘蔗青茶\n",
    "青檸香茶\n",
    "冰萃檸檬\n",
    "柳丁綠茶'''"
   ]
  },
  {
   "cell_type": "code",
   "execution_count": 5,
   "metadata": {},
   "outputs": [],
   "source": [
    "milk='''珍珠紅茶拿鐵\n",
    "伯爵紅茶拿鐵\n",
    "大正紅茶拿鐵\n",
    "仙草凍茶拿鐵'''"
   ]
  },
  {
   "cell_type": "code",
   "execution_count": 6,
   "metadata": {},
   "outputs": [],
   "source": [
    "tea='''大正紅茶\n",
    "初露青茶\n",
    "高峰烏龍綠\n",
    "決明大麥\n",
    "茉香綠茶\n",
    "英倫伯爵紅茶'''"
   ]
  },
  {
   "cell_type": "code",
   "execution_count": 7,
   "metadata": {},
   "outputs": [],
   "source": [
    "price={\n",
    "    '蜂農花蜜茶':45,\n",
    "    '冰糖洛神梅':45,\n",
    "    '養樂多綠':50,\n",
    "    '甘蔗青茶':55,\n",
    "    '青檸香茶':50,\n",
    "    '冰萃檸檬':50,\n",
    "    '柳丁綠茶':55,\n",
    "    '珍珠紅茶拿鐵':65,\n",
    "    '伯爵紅茶拿鐵':55,\n",
    "    '大正紅茶拿鐵':55,\n",
    "    '仙草凍茶拿鐵':65,\n",
    "    '大正紅茶':25,\n",
    "    '初露青茶':30,\n",
    "    '高峰烏龍綠':25,\n",
    "    '決明大麥':25,\n",
    "    '茉香綠茶':25,\n",
    "    '英倫伯爵紅茶':30\n",
    "}"
   ]
  },
  {
   "cell_type": "code",
   "execution_count": 8,
   "metadata": {},
   "outputs": [
    {
     "data": {
      "text/plain": [
       "25"
      ]
     },
     "execution_count": 8,
     "metadata": {},
     "output_type": "execute_result"
    }
   ],
   "source": [
    "price['大正紅茶']"
   ]
  },
  {
   "cell_type": "code",
   "execution_count": 9,
   "metadata": {},
   "outputs": [],
   "source": [
    "phrase1 = special.split(\"\\n\")\n",
    "phrase2 = milk.split(\"\\n\")\n",
    "phrase3 = tea.split(\"\\n\")\n",
    "phrase4 = phrase1 + phrase2 + phrase3"
   ]
  },
  {
   "cell_type": "code",
   "execution_count": 10,
   "metadata": {},
   "outputs": [
    {
     "data": {
      "text/plain": [
       "['蜂農花蜜茶',\n",
       " '冰糖洛神梅',\n",
       " '養樂多綠',\n",
       " '甘蔗青茶',\n",
       " '青檸香茶',\n",
       " '冰萃檸檬',\n",
       " '柳丁綠茶',\n",
       " '珍珠紅茶拿鐵',\n",
       " '伯爵紅茶拿鐵',\n",
       " '大正紅茶拿鐵',\n",
       " '仙草凍茶拿鐵',\n",
       " '大正紅茶',\n",
       " '初露青茶',\n",
       " '高峰烏龍綠',\n",
       " '決明大麥',\n",
       " '茉香綠茶',\n",
       " '英倫伯爵紅茶']"
      ]
     },
     "execution_count": 10,
     "metadata": {},
     "output_type": "execute_result"
    }
   ],
   "source": [
    "phrase4"
   ]
  },
  {
   "cell_type": "code",
   "execution_count": 11,
   "metadata": {
    "scrolled": true
   },
   "outputs": [],
   "source": [
    "from skimage import io\n",
    "    \n",
    "def type_image(name):\n",
    "    url_name = \"\"\n",
    "    if(name == \"大正紅茶\"):\n",
    "        url_name = \"https://www.milkshoptea.com/includes/timthumb.php?src=upload/product/1908091151450000001.png&w=307&zc=2\"\n",
    "    \n",
    "    elif(name == \"初露青茶\"):\n",
    "        url_name = \"https://www.milkshoptea.com/includes/timthumb.php?src=upload/product/1908091151560000001.png&w=307&zc=2\"\n",
    "    \n",
    "    elif(name == \"高峰烏龍茶\"):\n",
    "        url_name = \"https://www.milkshoptea.com/includes/timthumb.php?src=upload/product/1908091152200000001.png&w=307&zc=2\"\n",
    "    \n",
    "    elif(name == \"決明大麥\"):\n",
    "        url_name = \"https://www.milkshoptea.com/includes/timthumb.php?src=upload/product/1908091152330000001.png&w=307&zc=2\"\n",
    "    \n",
    "    elif(name == \"茉香綠茶\"):\n",
    "        url_name = \"https://www.milkshoptea.com/includes/timthumb.php?src=upload/product/1908091133330000001.png&w=307&zc=2\"\n",
    "    \n",
    "    elif(name == \"英倫伯爵紅茶\"):\n",
    "        url_name = \"https://www.milkshoptea.com/includes/timthumb.php?src=upload/product/1908091322430000001.png&w=307&zc=2\"\n",
    "    \n",
    "    elif(name == \"珍珠紅茶拿鐵\"):\n",
    "        url_name = \"https://www.milkshoptea.com/includes/timthumb.php?src=upload/product/1908091153310000001.png&w=307&zc=2\"\n",
    "    \n",
    "    elif(name == \"伯爵紅茶拿鐵\"):\n",
    "        url_name = \"https://www.milkshoptea.com/includes/timthumb.php?src=upload/product/1908091153440000001.png&w=307&zc=2\"\n",
    "                          \n",
    "    elif(name == \"大正紅茶拿鐵\"):\n",
    "        url_name = \"https://www.milkshoptea.com/includes/timthumb.php?src=upload/product/1908091153510000001.png&w=307&zc=2\"\n",
    "                          \n",
    "    elif(name == \"仙草凍茶拿鐵\"):\n",
    "        url_name = \"https://www.milkshoptea.com/includes/timthumb.php?src=upload/product/1908161524500000001.png&w=307&zc=2\"\n",
    "    \n",
    "    elif(name == \"蜂農花蜜茶\"):\n",
    "        url_name = \"https://www.milkshoptea.com/includes/timthumb.php?src=upload/product/1908091156480000001.png&w=307&zc=2\"\n",
    "    \n",
    "    elif(name == \"冰糖洛神梅\"):\n",
    "        url_name = \"https://www.milkshoptea.com/includes/timthumb.php?src=upload/product/1908091324010000001.png&w=307&zc=2\"                       \n",
    "    \n",
    "    elif(name == \"養樂多綠\"):\n",
    "        url_name = \"https://www.milkshoptea.com/includes/timthumb.php?src=upload/product/1908091157130000001.png&w=307&zc=2\"                    \n",
    "    \n",
    "    elif(name == \"甘蔗青茶\"):\n",
    "        url_name = \"https://www.milkshoptea.com/includes/timthumb.php?src=upload/product/1908091157290000001.png&w=307&zc=2\"                   \n",
    "    \n",
    "    elif(name == \"青檸香茶\"):\n",
    "        url_name = \"https://www.milkshoptea.com/includes/timthumb.php?src=upload/product/1908091157410000001.png&w=307&zc=2\"\n",
    "    \n",
    "    elif(name == \"冰萃檸檬\"):\n",
    "        url_name = \"https://www.milkshoptea.com/includes/timthumb.php?src=upload/product/1908091315060000001.png&w=307&zc=2\"  \n",
    "    \n",
    "    elif(name == \"柳丁綠茶\"):\n",
    "        url_name = \"https://www.milkshoptea.com/includes/timthumb.php?src=upload/product/1908091314530000001.png&w=307&zc=2\"\n",
    "    \n",
    "    return url_name\n",
    "\n",
    "def show_image(url):\n",
    "    io.imshow(io.imread(url))\n",
    "   "
   ]
  },
  {
   "cell_type": "code",
   "execution_count": 12,
   "metadata": {},
   "outputs": [],
   "source": [
    "l = randint(1,2) \n",
    "\n",
    "random_special = choice(phrase1,l)\n",
    "today_special=' '.join(random_special) \n",
    "random_milk = choice(phrase2,l)\n",
    "today_milk=' '.join(random_milk) \n",
    "random_tea = choice(phrase3,l)\n",
    "today_tea=' '.join(random_tea) \n",
    "random = choice(phrase4,l)\n",
    "today=' '.join(random)\n",
    "\n",
    "def show_recommand(choose_type):\n",
    "    if(choose_type == '特調茶飲'):\n",
    "        print(\"特調茶飲的話，我推薦您\" + today_special)\n",
    "        show_image(type_image(today_special))\n",
    "    elif(choose_type == '茶類'):\n",
    "        print(\"茶類的話，我推薦您\" + today_tea)\n",
    "        show_image(type_image(today_tea))\n",
    "    elif(choose_type == '牛奶類'):\n",
    "        print(\"牛奶類的話，我推薦您\" + today_milk)\n",
    "        show_image(type_image(today_milk))\n",
    "    else:\n",
    "        print(\"今日我推薦您\" + today)\n",
    "        show_image(type_image(today))\n",
    "    \n",
    "def btn_eventhandler_recommand(obj):\n",
    "    print(\"那要什麼類呢？\")\n",
    "    interact_manual(show_recommand,\n",
    "         choose_type = widgets.Dropdown(\n",
    "             options=['特調茶飲','茶類' , '牛奶類','不拘'],\n",
    "             description='類別',\n",
    "             disabled=False,\n",
    "         ),\n",
    "                   );"
   ]
  },
  {
   "cell_type": "code",
   "execution_count": 13,
   "metadata": {},
   "outputs": [],
   "source": [
    "def output_price(item):\n",
    "    return str(price[item])\n",
    "\n",
    "def decide(items):\n",
    "    \n",
    "    print(\"您點的是\" + items + \"，一共是\" + output_price(items) +\"元。\")\n",
    "    show_image(type_image(items))\n",
    "    \n",
    "def show_item(choose_type):\n",
    "    \n",
    "    if(choose_type == '特調茶飲'):\n",
    "        interact_manual(decide,\n",
    "                        items = widgets.Dropdown(\n",
    "                            options = phrase1 ,\n",
    "                            description='品項',\n",
    "                            disabled=False,\n",
    "                        )\n",
    "                       );\n",
    "    elif(choose_type == '茶類'):\n",
    "        interact_manual(decide,\n",
    "                        items = widgets.Dropdown(\n",
    "                            options = phrase2 ,\n",
    "                            description='品項',\n",
    "                            disabled=False,\n",
    "                        )\n",
    "                       );\n",
    "    else:\n",
    "        interact_manual(decide,\n",
    "                        items = widgets.Dropdown(\n",
    "                            options = phrase3 ,\n",
    "                            description='品項',\n",
    "                            disabled=False,\n",
    "                        )\n",
    "                       );\n",
    "    \n",
    "def btn_eventhandler_order(obj):\n",
    "    interact(show_item,\n",
    "         choose_type = widgets.Dropdown(\n",
    "             options=['特調茶飲','茶類' , '牛奶類'],\n",
    "             description='類別',\n",
    "             disabled=False,\n",
    "         )\n",
    "        );"
   ]
  },
  {
   "cell_type": "code",
   "execution_count": 14,
   "metadata": {},
   "outputs": [
    {
     "name": "stdout",
     "output_type": "stream",
     "text": [
      "歡迎光臨迷客夏，請問今天要喝什麼呢？\n"
     ]
    },
    {
     "data": {
      "application/vnd.jupyter.widget-view+json": {
       "model_id": "7b736738da5f44b29f6052f41821c689",
       "version_major": 2,
       "version_minor": 0
      },
      "text/plain": [
       "Button(description='開始點餐', style=ButtonStyle())"
      ]
     },
     "metadata": {},
     "output_type": "display_data"
    },
    {
     "data": {
      "application/vnd.jupyter.widget-view+json": {
       "model_id": "2aec00b360e74336b0d189bf68590f44",
       "version_major": 2,
       "version_minor": 0
      },
      "text/plain": [
       "Button(description='今日推薦', style=ButtonStyle())"
      ]
     },
     "metadata": {},
     "output_type": "display_data"
    },
    {
     "data": {
      "image/png": "[encoded data removed]",
      "text/plain": [
       "<Figure size 432x288 with 1 Axes>"
      ]
     },
     "metadata": {
      "needs_background": "light"
     },
     "output_type": "display_data"
    }
   ],
   "source": [
    "print(\"歡迎光臨迷客夏，請問今天要喝什麼呢？\")\n",
    "show_image(\"https://www.milkshoptea.com/upload/price/1907101436450000002.jpg\")\n",
    "\n",
    "btn_order= widgets.Button(description='開始點餐')\n",
    "btn_order.on_click(btn_eventhandler_order)\n",
    "\n",
    "btn_recommand= widgets.Button(description='今日推薦')\n",
    "btn_recommand.on_click(btn_eventhandler_recommand)\n",
    "\n",
    "display(btn_order,btn_recommand)"
   ]
  },
  {
   "cell_type": "code",
   "execution_count": null,
   "metadata": {},
   "outputs": [],
   "source": []
  },
  {
   "cell_type": "code",
   "execution_count": null,
   "metadata": {},
   "outputs": [],
   "source": []
  }
 ],
 "metadata": {
  "kernelspec": {
   "display_name": "Python 3",
   "language": "python",
   "name": "python3"
  },
  "language_info": {
   "codemirror_mode": {
    "name": "ipython",
    "version": 3
   },
   "file_extension": ".py",
   "mimetype": "text/x-python",
   "name": "python",
   "nbconvert_exporter": "python",
   "pygments_lexer": "ipython3",
   "version": "3.7.3"
  }
 },
 "nbformat": 4,
 "nbformat_minor": 2
}
