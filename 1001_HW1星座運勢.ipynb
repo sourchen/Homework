{
 "cells": [
  {
   "cell_type": "code",
   "execution_count": 1,
   "metadata": {},
   "outputs": [],
   "source": [
    "%matplotlib inline\n",
    "\n",
    "import numpy as np\n",
    "import matplotlib.pyplot as plt\n",
    "import pandas as pd\n",
    "from numpy.random import randint\n",
    "from numpy.random import choice\n",
    "\n",
    "import ipywidgets as widgets\n",
    "from IPython.display import display"
   ]
  },
  {
   "cell_type": "code",
   "execution_count": 2,
   "metadata": {},
   "outputs": [],
   "source": [
    "color='''紅色\n",
    "橘色\n",
    "黃色\n",
    "綠色\n",
    "藍色\n",
    "靛色\n",
    "紫色\n",
    "黑色\n",
    "白色\n",
    "粉色\n",
    "藕色\n",
    "咖啡色'''"
   ]
  },
  {
   "cell_type": "code",
   "execution_count": 3,
   "metadata": {},
   "outputs": [],
   "source": [
    "stuff='''手機\n",
    "錢包\n",
    "麵包\n",
    "水壺\n",
    "鉛筆盒\n",
    "行動電源\n",
    "書\n",
    "外套\n",
    "御飯糰\n",
    "耳機\n",
    "口罩'''"
   ]
  },
  {
   "cell_type": "code",
   "execution_count": 4,
   "metadata": {},
   "outputs": [],
   "source": [
    "phrase1 = color.split(\"\\n\")\n",
    "phrase2 = stuff.split(\"\\n\")"
   ]
  },
  {
   "cell_type": "code",
   "execution_count": 5,
   "metadata": {},
   "outputs": [],
   "source": [
    "from numpy.random import choice"
   ]
  },
  {
   "cell_type": "code",
   "execution_count": 6,
   "metadata": {},
   "outputs": [],
   "source": [
    "l = randint(1,3) \n",
    "ll = randint(2,4) \n",
    "\n",
    "random_color = choice(phrase1,l)\n",
    "lucky_color=' '.join(random_color) \n",
    "random_stuff = choice(phrase2,ll)\n",
    "lucky_stuff=' '.join(random_stuff) "
   ]
  },
  {
   "cell_type": "code",
   "execution_count": 8,
   "metadata": {},
   "outputs": [
    {
     "data": {
      "application/vnd.jupyter.widget-view+json": {
       "model_id": "e6bf18ac67934bcd9c184bcd04678455",
       "version_major": 2,
       "version_minor": 0
      },
      "text/plain": [
       "interactive(children=(Dropdown(description='您的星座是？', options=('牡羊座', '金牛座', '雙子座', '巨蟹座', '獅子座', '處女座', '天秤座',…"
      ]
     },
     "metadata": {},
     "output_type": "display_data"
    }
   ],
   "source": [
    "from ipywidgets import interact\n",
    "from ipywidgets import interact_manual\n",
    "        \n",
    "def show(Constellations):\n",
    "    print(\"本週運勢\")\n",
    "    print(\"幸運色：\" + lucky_color)\n",
    "    print(\"幸運小物：\" + lucky_stuff)\n",
    "\n",
    "interact_manual(show,\n",
    "         Constellations = widgets.Dropdown(\n",
    "             options=['牡羊座' , '金牛座', '雙子座','巨蟹座','獅子座','處女座','天秤座','天蠍座','射手座','摩羯座','水瓶座','雙魚座' ],\n",
    "             description='您的星座是？',\n",
    "             disabled=False,\n",
    "         ),\n",
    "        );"
   ]
  },
  {
   "cell_type": "code",
   "execution_count": null,
   "metadata": {},
   "outputs": [],
   "source": []
  },
  {
   "cell_type": "code",
   "execution_count": null,
   "metadata": {},
   "outputs": [],
   "source": []
  },
  {
   "cell_type": "code",
   "execution_count": null,
   "metadata": {},
   "outputs": [],
   "source": []
  },
  {
   "cell_type": "code",
   "execution_count": null,
   "metadata": {},
   "outputs": [],
   "source": []
  },
  {
   "cell_type": "code",
   "execution_count": null,
   "metadata": {},
   "outputs": [],
   "source": []
  },
  {
   "cell_type": "code",
   "execution_count": null,
   "metadata": {},
   "outputs": [],
   "source": []
  }
 ],
 "metadata": {
  "kernelspec": {
   "display_name": "Python 3",
   "language": "python",
   "name": "python3"
  },
  "language_info": {
   "codemirror_mode": {
    "name": "ipython",
    "version": 3
   },
   "file_extension": ".py",
   "mimetype": "text/x-python",
   "name": "python",
   "nbconvert_exporter": "python",
   "pygments_lexer": "ipython3",
   "version": "3.7.3"
  }
 },
 "nbformat": 4,
 "nbformat_minor": 2
}
