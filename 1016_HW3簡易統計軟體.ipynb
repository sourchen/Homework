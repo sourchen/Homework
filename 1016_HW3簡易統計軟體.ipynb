{
 "cells": [
  {
   "cell_type": "code",
   "execution_count": 1,
   "metadata": {},
   "outputs": [],
   "source": [
    "%matplotlib inline\n",
    "\n",
    "import numpy as np\n",
    "import matplotlib.pyplot as plt\n",
    "import pandas as pd"
   ]
  },
  {
   "cell_type": "code",
   "execution_count": null,
   "metadata": {},
   "outputs": [],
   "source": []
  },
  {
   "cell_type": "code",
   "execution_count": null,
   "metadata": {},
   "outputs": [],
   "source": []
  },
  {
   "cell_type": "code",
   "execution_count": null,
   "metadata": {},
   "outputs": [],
   "source": [
    "\n"
   ]
  },
  {
   "cell_type": "code",
   "execution_count": null,
   "metadata": {},
   "outputs": [],
   "source": []
  },
  {
   "cell_type": "code",
   "execution_count": null,
   "metadata": {},
   "outputs": [],
   "source": [
    "\n"
   ]
  },
  {
   "cell_type": "code",
   "execution_count": null,
   "metadata": {},
   "outputs": [],
   "source": []
  },
  {
   "cell_type": "code",
   "execution_count": null,
   "metadata": {},
   "outputs": [],
   "source": []
  },
  {
   "cell_type": "code",
   "execution_count": null,
   "metadata": {},
   "outputs": [],
   "source": []
  },
  {
   "cell_type": "code",
   "execution_count": null,
   "metadata": {},
   "outputs": [],
   "source": []
  },
  {
   "cell_type": "code",
   "execution_count": null,
   "metadata": {},
   "outputs": [],
   "source": []
  },
  {
   "cell_type": "code",
   "execution_count": null,
   "metadata": {},
   "outputs": [],
   "source": []
  },
  {
   "cell_type": "code",
   "execution_count": null,
   "metadata": {},
   "outputs": [],
   "source": []
  },
  {
   "cell_type": "code",
   "execution_count": null,
   "metadata": {},
   "outputs": [],
   "source": []
  },
  {
   "cell_type": "code",
   "execution_count": null,
   "metadata": {},
   "outputs": [],
   "source": []
  },
  {
   "cell_type": "code",
   "execution_count": 5,
   "metadata": {},
   "outputs": [],
   "source": [
    "class statistic:\n",
    "        \n",
    "    def mean(x):\n",
    "        total = 0\n",
    "        for num in x:\n",
    "            total = total + num\n",
    "        return total / len(x)\n",
    "        \n",
    "    def median(self,x):\n",
    "        if (len(x)%2 != 0):\n",
    "            position = int(len(x)/2 - 0.5)\n",
    "            return x[position]\n",
    "        else:\n",
    "            position = int(len(x)/2)\n",
    "            return int((x[position] + x[position-1])/2)\n",
    "        \n",
    "    def variance(x):\n",
    "        temp = 0\n",
    "        for num in x:\n",
    "            temp = temp + pow(num-mean(x),2)\n",
    "            result = temp/len(x)\n",
    "        return result \n",
    "    \n",
    "    def mode(x):\n",
    "        tempCount = 1\n",
    "        tempMode = []\n",
    "        for num in x:\n",
    "            if(x.count(num) >= tempCount):\n",
    "                tempCount = x.count(num)\n",
    "                tempMode.append(num)\n",
    "            \n",
    "        resultList = []\n",
    "        for item in tempMode:\n",
    "            if not item in resultList:\n",
    "                resultList.append(item)\n",
    "        return resultList     \n",
    "\n",
    "        if(tempCount == 1):\n",
    "            print('No Mode')\n",
    "        else:\n",
    "            print(resultList)\n",
    "            \n",
    "    def Range(x):\n",
    "        return max(x)-min(x)\n",
    "    \n",
    "    import math\n",
    "    def standard_deviation(x):\n",
    "        for num in x:\n",
    "            result = math.sqrt(pow(num-mean(x),2)/(len(x)-1))\n",
    "        return result\n",
    "    \n",
    "    def percentile(x,lp):\n",
    "        new_x = sorted(x)\n",
    "        Lp = (lp/100)*((len(new_x))+1)\n",
    "        percentile = new_x[math.floor(Lp)-1]+(Lp-math.floor(Lp))*(new_x[math.floor(Lp)]-new_x[math.floor(Lp)-1])\n",
    "        return percentile"
   ]
  },
  {
   "cell_type": "code",
   "execution_count": 6,
   "metadata": {},
   "outputs": [],
   "source": [
    "x = statistic()"
   ]
  },
  {
   "cell_type": "code",
   "execution_count": 7,
   "metadata": {},
   "outputs": [
    {
     "data": {
      "text/plain": [
       "5"
      ]
     },
     "execution_count": 7,
     "metadata": {},
     "output_type": "execute_result"
    }
   ],
   "source": [
    "x.median([2,4,6,7])  "
   ]
  },
  {
   "cell_type": "code",
   "execution_count": null,
   "metadata": {},
   "outputs": [],
   "source": []
  },
  {
   "cell_type": "code",
   "execution_count": null,
   "metadata": {},
   "outputs": [],
   "source": []
  },
  {
   "cell_type": "code",
   "execution_count": null,
   "metadata": {},
   "outputs": [],
   "source": []
  }
 ],
 "metadata": {
  "kernelspec": {
   "display_name": "Python 3",
   "language": "python",
   "name": "python3"
  },
  "language_info": {
   "codemirror_mode": {
    "name": "ipython",
    "version": 3
   },
   "file_extension": ".py",
   "mimetype": "text/x-python",
   "name": "python",
   "nbconvert_exporter": "python",
   "pygments_lexer": "ipython3",
   "version": "3.7.3"
  }
 },
 "nbformat": 4,
 "nbformat_minor": 2
}
