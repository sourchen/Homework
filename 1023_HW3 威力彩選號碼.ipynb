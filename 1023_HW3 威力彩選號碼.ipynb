{
 "cells": [
  {
   "cell_type": "code",
   "execution_count": 17,
   "metadata": {},
   "outputs": [],
   "source": [
    "%matplotlib inline\n",
    "\n",
    "import numpy as np\n",
    "import matplotlib.pyplot as plt\n",
    "import pandas as pd\n",
    "import random"
   ]
  },
  {
   "cell_type": "code",
   "execution_count": 18,
   "metadata": {},
   "outputs": [
    {
     "name": "stdout",
     "output_type": "stream",
     "text": [
      "您要玩威力彩\n",
      "您的號碼為：[40 43  3 14 46 15]\n",
      "祝您中獎！\n"
     ]
    }
   ],
   "source": [
    "lottery=input(\"您要玩\")\n",
    "\n",
    "if(lottery == \"大樂透\"):\n",
    "    p = np.random.randint(low=1,high=38,size=6)\n",
    "    print(\"您的號碼為：\" + str(p))\n",
    "    print(\"祝您中獎！\")\n",
    "elif(lottery == \"威力彩\"):\n",
    "    q = np.random.randint(low=1,high=49,size=6)\n",
    "    print(\"您的號碼為：\" + str(q))\n",
    "    print(\"祝您中獎！\")\n",
    "else:\n",
    "    print(\"格式錯誤\")"
   ]
  },
  {
   "cell_type": "code",
   "execution_count": null,
   "metadata": {},
   "outputs": [],
   "source": []
  },
  {
   "cell_type": "code",
   "execution_count": null,
   "metadata": {},
   "outputs": [],
   "source": []
  }
 ],
 "metadata": {
  "kernelspec": {
   "display_name": "Python 3",
   "language": "python",
   "name": "python3"
  },
  "language_info": {
   "codemirror_mode": {
    "name": "ipython",
    "version": 3
   },
   "file_extension": ".py",
   "mimetype": "text/x-python",
   "name": "python",
   "nbconvert_exporter": "python",
   "pygments_lexer": "ipython3",
   "version": "3.7.3"
  }
 },
 "nbformat": 4,
 "nbformat_minor": 2
}
